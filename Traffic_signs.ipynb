{
  "nbformat": 4,
  "nbformat_minor": 0,
  "metadata": {
    "colab": {
      "name": "Traffic_signs.ipynb",
      "provenance": []
    },
    "kernelspec": {
      "name": "python3",
      "display_name": "Python 3"
    },
    "accelerator": "GPU"
  },
  "cells": [
    {
      "cell_type": "code",
      "metadata": {
        "id": "crIwx7WIw8wD",
        "colab_type": "code",
        "colab": {
          "base_uri": "https://localhost:8080/",
          "height": 71
        },
        "outputId": "fc3809c2-db54-4f35-c486-abf5a62a5f79"
      },
      "source": [
        "from google.colab import files\n",
        "import torch \n",
        "from torch import nn\n",
        "from torch.utils.data.sampler import SubsetRandomSampler\n",
        "from torchvision import transforms, datasets\n",
        "import matplotlib.pyplot as plt\n",
        "import numpy as np \n",
        "import pandas as pd\n",
        "import matplotlib.image as mpimg\n",
        "import math\n",
        "import time\n",
        "import os\n",
        "import seaborn as sns"
      ],
      "execution_count": 2,
      "outputs": [
        {
          "output_type": "stream",
          "text": [
            "/usr/local/lib/python3.6/dist-packages/statsmodels/tools/_testing.py:19: FutureWarning: pandas.util.testing is deprecated. Use the functions in the public API at pandas.testing instead.\n",
            "  import pandas.util.testing as tm\n"
          ],
          "name": "stderr"
        }
      ]
    },
    {
      "cell_type": "markdown",
      "metadata": {
        "id": "rbKqmM66eemd",
        "colab_type": "text"
      },
      "source": [
        "Downloading the dataset from Kaggle using API token"
      ]
    },
    {
      "cell_type": "code",
      "metadata": {
        "id": "b3PNd9vOfPVB",
        "colab_type": "code",
        "outputId": "93424c5d-5ce0-465e-cc9d-6ecd71abad7e",
        "colab": {
          "resources": {
            "http://localhost:8080/nbextensions/google.colab/files.js": {
              "data": "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",
              "ok": true,
              "headers": [
                [
                  "content-type",
                  "application/javascript"
                ]
              ],
              "status": 200,
              "status_text": ""
            }
          },
          "base_uri": "https://localhost:8080/",
          "height": 71
        }
      },
      "source": [
        "files.upload()\n",
        "! mkdir ~/.kaggle\n",
        "! cp kaggle.json ~/.kaggle/\n",
        "! chmod 600 ~/.kaggle/kaggle.json"
      ],
      "execution_count": 2,
      "outputs": [
        {
          "output_type": "display_data",
          "data": {
            "text/html": [
              "\n",
              "     <input type=\"file\" id=\"files-49c52589-d942-4120-8074-57bfe14a8d34\" name=\"files[]\" multiple disabled />\n",
              "     <output id=\"result-49c52589-d942-4120-8074-57bfe14a8d34\">\n",
              "      Upload widget is only available when the cell has been executed in the\n",
              "      current browser session. Please rerun this cell to enable.\n",
              "      </output>\n",
              "      <script src=\"/nbextensions/google.colab/files.js\"></script> "
            ],
            "text/plain": [
              "<IPython.core.display.HTML object>"
            ]
          },
          "metadata": {
            "tags": []
          }
        },
        {
          "output_type": "stream",
          "text": [
            "Saving kaggle.json to kaggle.json\n"
          ],
          "name": "stdout"
        }
      ]
    },
    {
      "cell_type": "code",
      "metadata": {
        "id": "MrFfnK-BfS4u",
        "colab_type": "code",
        "outputId": "d8047413-a64b-4030-9e7e-8faf80eac4c4",
        "colab": {
          "base_uri": "https://localhost:8080/",
          "height": 68
        }
      },
      "source": [
        "! kaggle datasets download -d 'meowmeowmeowmeowmeow/gtsrb-german-traffic-sign'"
      ],
      "execution_count": 3,
      "outputs": [
        {
          "output_type": "stream",
          "text": [
            "Downloading gtsrb-german-traffic-sign.zip to /content\n",
            " 98% 601M/612M [00:14<00:00, 30.1MB/s]\n",
            "100% 612M/612M [00:14<00:00, 44.3MB/s]\n"
          ],
          "name": "stdout"
        }
      ]
    },
    {
      "cell_type": "code",
      "metadata": {
        "id": "BJc4XP2kfvOo",
        "colab_type": "code",
        "colab": {}
      },
      "source": [
        "! mkdir data\n",
        "! unzip -qq -d ./data gtsrb-german-traffic-sign.zip "
      ],
      "execution_count": 0,
      "outputs": []
    },
    {
      "cell_type": "markdown",
      "metadata": {
        "id": "lRrvWyTiKz6m",
        "colab_type": "text"
      },
      "source": [
        "The data is splitted into two folders: test and train. \n",
        "\n",
        "For train data all pictures are arranged into catergories already. So an easy way to load them is to use ImageFolder class from PyTorch.\n",
        "\n",
        "We will arrange the test data the same way, based on the classes info from the metadata file.\n",
        "\n",
        "We will split trainset into two parts: for training and validation (80:20)"
      ]
    },
    {
      "cell_type": "markdown",
      "metadata": {
        "id": "Im8eujwNspv0",
        "colab_type": "text"
      },
      "source": [
        "Checking the metadata for training set"
      ]
    },
    {
      "cell_type": "code",
      "metadata": {
        "id": "vTlg2FqNq1VN",
        "colab_type": "code",
        "outputId": "82a15623-c0c9-4190-bfff-cc16bac9b33e",
        "colab": {
          "base_uri": "https://localhost:8080/",
          "height": 204
        }
      },
      "source": [
        "meta_train = pd.read_csv(\"data/Train.csv\")\n",
        "meta_train.head()"
      ],
      "execution_count": 3,
      "outputs": [
        {
          "output_type": "execute_result",
          "data": {
            "text/html": [
              "<div>\n",
              "<style scoped>\n",
              "    .dataframe tbody tr th:only-of-type {\n",
              "        vertical-align: middle;\n",
              "    }\n",
              "\n",
              "    .dataframe tbody tr th {\n",
              "        vertical-align: top;\n",
              "    }\n",
              "\n",
              "    .dataframe thead th {\n",
              "        text-align: right;\n",
              "    }\n",
              "</style>\n",
              "<table border=\"1\" class=\"dataframe\">\n",
              "  <thead>\n",
              "    <tr style=\"text-align: right;\">\n",
              "      <th></th>\n",
              "      <th>Width</th>\n",
              "      <th>Height</th>\n",
              "      <th>Roi.X1</th>\n",
              "      <th>Roi.Y1</th>\n",
              "      <th>Roi.X2</th>\n",
              "      <th>Roi.Y2</th>\n",
              "      <th>ClassId</th>\n",
              "      <th>Path</th>\n",
              "    </tr>\n",
              "  </thead>\n",
              "  <tbody>\n",
              "    <tr>\n",
              "      <th>0</th>\n",
              "      <td>27</td>\n",
              "      <td>26</td>\n",
              "      <td>5</td>\n",
              "      <td>5</td>\n",
              "      <td>22</td>\n",
              "      <td>20</td>\n",
              "      <td>20</td>\n",
              "      <td>Train/20/00020_00000_00000.png</td>\n",
              "    </tr>\n",
              "    <tr>\n",
              "      <th>1</th>\n",
              "      <td>28</td>\n",
              "      <td>27</td>\n",
              "      <td>5</td>\n",
              "      <td>6</td>\n",
              "      <td>23</td>\n",
              "      <td>22</td>\n",
              "      <td>20</td>\n",
              "      <td>Train/20/00020_00000_00001.png</td>\n",
              "    </tr>\n",
              "    <tr>\n",
              "      <th>2</th>\n",
              "      <td>29</td>\n",
              "      <td>26</td>\n",
              "      <td>6</td>\n",
              "      <td>5</td>\n",
              "      <td>24</td>\n",
              "      <td>21</td>\n",
              "      <td>20</td>\n",
              "      <td>Train/20/00020_00000_00002.png</td>\n",
              "    </tr>\n",
              "    <tr>\n",
              "      <th>3</th>\n",
              "      <td>28</td>\n",
              "      <td>27</td>\n",
              "      <td>5</td>\n",
              "      <td>6</td>\n",
              "      <td>23</td>\n",
              "      <td>22</td>\n",
              "      <td>20</td>\n",
              "      <td>Train/20/00020_00000_00003.png</td>\n",
              "    </tr>\n",
              "    <tr>\n",
              "      <th>4</th>\n",
              "      <td>28</td>\n",
              "      <td>26</td>\n",
              "      <td>5</td>\n",
              "      <td>5</td>\n",
              "      <td>23</td>\n",
              "      <td>21</td>\n",
              "      <td>20</td>\n",
              "      <td>Train/20/00020_00000_00004.png</td>\n",
              "    </tr>\n",
              "  </tbody>\n",
              "</table>\n",
              "</div>"
            ],
            "text/plain": [
              "   Width  Height  Roi.X1  ...  Roi.Y2  ClassId                            Path\n",
              "0     27      26       5  ...      20       20  Train/20/00020_00000_00000.png\n",
              "1     28      27       5  ...      22       20  Train/20/00020_00000_00001.png\n",
              "2     29      26       6  ...      21       20  Train/20/00020_00000_00002.png\n",
              "3     28      27       5  ...      22       20  Train/20/00020_00000_00003.png\n",
              "4     28      26       5  ...      21       20  Train/20/00020_00000_00004.png\n",
              "\n",
              "[5 rows x 8 columns]"
            ]
          },
          "metadata": {
            "tags": []
          },
          "execution_count": 3
        }
      ]
    },
    {
      "cell_type": "code",
      "metadata": {
        "id": "4-kVzAYpsHOt",
        "colab_type": "code",
        "outputId": "201e9a0c-79d5-4e13-f494-654e76d0d3b8",
        "colab": {
          "base_uri": "https://localhost:8080/",
          "height": 170
        }
      },
      "source": [
        "meta_train.Width.describe()"
      ],
      "execution_count": 4,
      "outputs": [
        {
          "output_type": "execute_result",
          "data": {
            "text/plain": [
              "count    39209.000000\n",
              "mean        50.835880\n",
              "std         24.306933\n",
              "min         25.000000\n",
              "25%         35.000000\n",
              "50%         43.000000\n",
              "75%         58.000000\n",
              "max        243.000000\n",
              "Name: Width, dtype: float64"
            ]
          },
          "metadata": {
            "tags": []
          },
          "execution_count": 4
        }
      ]
    },
    {
      "cell_type": "code",
      "metadata": {
        "id": "Cvwgv0OvsROY",
        "colab_type": "code",
        "outputId": "882d054e-cde5-47fc-faa2-95565cadf8fe",
        "colab": {
          "base_uri": "https://localhost:8080/",
          "height": 170
        }
      },
      "source": [
        "meta_train.Height.describe()"
      ],
      "execution_count": 5,
      "outputs": [
        {
          "output_type": "execute_result",
          "data": {
            "text/plain": [
              "count    39209.000000\n",
              "mean        50.328930\n",
              "std         23.115423\n",
              "min         25.000000\n",
              "25%         35.000000\n",
              "50%         43.000000\n",
              "75%         58.000000\n",
              "max        225.000000\n",
              "Name: Height, dtype: float64"
            ]
          },
          "metadata": {
            "tags": []
          },
          "execution_count": 5
        }
      ]
    },
    {
      "cell_type": "markdown",
      "metadata": {
        "id": "a3p1UAp8swu7",
        "colab_type": "text"
      },
      "source": [
        "We will resize all images to 40x40"
      ]
    },
    {
      "cell_type": "markdown",
      "metadata": {
        "id": "8eSU8bUm28If",
        "colab_type": "text"
      },
      "source": [
        "Splitting the test data to folders corresponding to classes"
      ]
    },
    {
      "cell_type": "code",
      "metadata": {
        "id": "ee3H0fo3tQF6",
        "colab_type": "code",
        "outputId": "35e773d0-0f4d-4f8c-dce8-9bb4645031b8",
        "colab": {
          "base_uri": "https://localhost:8080/",
          "height": 204
        }
      },
      "source": [
        "meta_test = pd.read_csv(\"data/Test.csv\")\n",
        "meta_test.head()"
      ],
      "execution_count": 8,
      "outputs": [
        {
          "output_type": "execute_result",
          "data": {
            "text/html": [
              "<div>\n",
              "<style scoped>\n",
              "    .dataframe tbody tr th:only-of-type {\n",
              "        vertical-align: middle;\n",
              "    }\n",
              "\n",
              "    .dataframe tbody tr th {\n",
              "        vertical-align: top;\n",
              "    }\n",
              "\n",
              "    .dataframe thead th {\n",
              "        text-align: right;\n",
              "    }\n",
              "</style>\n",
              "<table border=\"1\" class=\"dataframe\">\n",
              "  <thead>\n",
              "    <tr style=\"text-align: right;\">\n",
              "      <th></th>\n",
              "      <th>Width</th>\n",
              "      <th>Height</th>\n",
              "      <th>Roi.X1</th>\n",
              "      <th>Roi.Y1</th>\n",
              "      <th>Roi.X2</th>\n",
              "      <th>Roi.Y2</th>\n",
              "      <th>ClassId</th>\n",
              "      <th>Path</th>\n",
              "    </tr>\n",
              "  </thead>\n",
              "  <tbody>\n",
              "    <tr>\n",
              "      <th>0</th>\n",
              "      <td>53</td>\n",
              "      <td>54</td>\n",
              "      <td>6</td>\n",
              "      <td>5</td>\n",
              "      <td>48</td>\n",
              "      <td>49</td>\n",
              "      <td>16</td>\n",
              "      <td>Test/00000.png</td>\n",
              "    </tr>\n",
              "    <tr>\n",
              "      <th>1</th>\n",
              "      <td>42</td>\n",
              "      <td>45</td>\n",
              "      <td>5</td>\n",
              "      <td>5</td>\n",
              "      <td>36</td>\n",
              "      <td>40</td>\n",
              "      <td>1</td>\n",
              "      <td>Test/00001.png</td>\n",
              "    </tr>\n",
              "    <tr>\n",
              "      <th>2</th>\n",
              "      <td>48</td>\n",
              "      <td>52</td>\n",
              "      <td>6</td>\n",
              "      <td>6</td>\n",
              "      <td>43</td>\n",
              "      <td>47</td>\n",
              "      <td>38</td>\n",
              "      <td>Test/00002.png</td>\n",
              "    </tr>\n",
              "    <tr>\n",
              "      <th>3</th>\n",
              "      <td>27</td>\n",
              "      <td>29</td>\n",
              "      <td>5</td>\n",
              "      <td>5</td>\n",
              "      <td>22</td>\n",
              "      <td>24</td>\n",
              "      <td>33</td>\n",
              "      <td>Test/00003.png</td>\n",
              "    </tr>\n",
              "    <tr>\n",
              "      <th>4</th>\n",
              "      <td>60</td>\n",
              "      <td>57</td>\n",
              "      <td>5</td>\n",
              "      <td>5</td>\n",
              "      <td>55</td>\n",
              "      <td>52</td>\n",
              "      <td>11</td>\n",
              "      <td>Test/00004.png</td>\n",
              "    </tr>\n",
              "  </tbody>\n",
              "</table>\n",
              "</div>"
            ],
            "text/plain": [
              "   Width  Height  Roi.X1  Roi.Y1  Roi.X2  Roi.Y2  ClassId            Path\n",
              "0     53      54       6       5      48      49       16  Test/00000.png\n",
              "1     42      45       5       5      36      40        1  Test/00001.png\n",
              "2     48      52       6       6      43      47       38  Test/00002.png\n",
              "3     27      29       5       5      22      24       33  Test/00003.png\n",
              "4     60      57       5       5      55      52       11  Test/00004.png"
            ]
          },
          "metadata": {
            "tags": []
          },
          "execution_count": 8
        }
      ]
    },
    {
      "cell_type": "code",
      "metadata": {
        "id": "7PflLMxIsVLl",
        "colab_type": "code",
        "colab": {}
      },
      "source": [
        "classes = meta_test.ClassId.unique()\n",
        "for cl in classes:\n",
        "  os.mkdir('data/Test/'+str(cl))"
      ],
      "execution_count": 0,
      "outputs": []
    },
    {
      "cell_type": "code",
      "metadata": {
        "id": "CXy6NHyXv_7b",
        "colab_type": "code",
        "colab": {}
      },
      "source": [
        "for _, row in meta_test.iterrows():\n",
        "  newdir = \"data/Test/\" + str(row['ClassId']) + \"/\" +  row['Path'].split(\"/\")[-1]\n",
        "  os.rename(\"data/\" + row.Path, newdir )"
      ],
      "execution_count": 0,
      "outputs": []
    },
    {
      "cell_type": "markdown",
      "metadata": {
        "id": "QHRKMxXJBUtH",
        "colab_type": "text"
      },
      "source": [
        "\n",
        "Defining the datasets from folders"
      ]
    },
    {
      "cell_type": "code",
      "metadata": {
        "id": "CztabNnRs4UK",
        "colab_type": "code",
        "colab": {}
      },
      "source": [
        "INPUT_DIM = 40\n",
        "BATCH_SIZE = 36\n",
        "transformations = transforms.Compose([\n",
        "    transforms.Resize(INPUT_DIM),\n",
        "    transforms.CenterCrop(INPUT_DIM),\n",
        "    transforms.ToTensor()])\n",
        "signs_data = datasets.ImageFolder(\"data/Train/\", transform = transformations)\n",
        "OUTPUT_DIM = len(signs_data.classes)\n",
        "test_data = datasets.ImageFolder(\"data/Test/\", transform = transformations)"
      ],
      "execution_count": 0,
      "outputs": []
    },
    {
      "cell_type": "markdown",
      "metadata": {
        "id": "_KwGC47AkveL",
        "colab_type": "text"
      },
      "source": [
        "Splitting the dataset into train and validation. Creating the loaders"
      ]
    },
    {
      "cell_type": "code",
      "metadata": {
        "id": "xxb0dvpOi1Bx",
        "colab_type": "code",
        "colab": {}
      },
      "source": [
        "val_split = 0.2\n",
        "size = len(signs_data)\n",
        "split = int(np.floor(val_split * size))\n",
        "indices = list(range(size))\n",
        "np.random.shuffle(indices)\n",
        "train_indices, val_indices = indices[split:], indices[:split]\n",
        "\n",
        "train_sampler = SubsetRandomSampler(train_indices)\n",
        "valid_sampler = SubsetRandomSampler(val_indices)\n",
        "\n",
        "train_loader = torch.utils.data.DataLoader(signs_data, batch_size=BATCH_SIZE, sampler=train_sampler, num_workers=16)\n",
        "validation_loader = torch.utils.data.DataLoader(signs_data, batch_size=BATCH_SIZE, sampler=valid_sampler,  num_workers=16)\n",
        "test_loader = torch.utils.data.DataLoader(test_data, batch_size=BATCH_SIZE, num_workers=16)\n",
        "\n"
      ],
      "execution_count": 0,
      "outputs": []
    },
    {
      "cell_type": "markdown",
      "metadata": {
        "id": "fi1vHwcd05uk",
        "colab_type": "text"
      },
      "source": [
        "Visualisation of sample images"
      ]
    },
    {
      "cell_type": "code",
      "metadata": {
        "id": "mJh21qEn3ys5",
        "colab_type": "code",
        "colab": {}
      },
      "source": [
        "def plotImage(images, labels, classes):\n",
        "  size = len(labels)\n",
        "  for i in range(size):\n",
        "    im_numpy = np.transpose(im[i].numpy(), (1, 2, 0))\n",
        "    lab_class = classes[labels[i]]\n",
        "    meta_im = mpimg.imread(\"data/Meta/\" + lab_class + \".png\")\n",
        "    plt.subplot(1,2,1)\n",
        "    plt.imshow(im_numpy)\n",
        "    plt.subplot(1,2,2)\n",
        "    plt.imshow(meta_im)\n",
        "    plt.title(lab_class)\n",
        "    plt.show()\n",
        "  \n"
      ],
      "execution_count": 0,
      "outputs": []
    },
    {
      "cell_type": "code",
      "metadata": {
        "id": "QCVzC_Ov4BZO",
        "colab_type": "code",
        "outputId": "b140c0a6-36ce-4770-eb43-7f939c259c19",
        "colab": {
          "base_uri": "https://localhost:8080/",
          "height": 804
        }
      },
      "source": [
        "im, lab = next(iter(train_loader))\n",
        "plotImage(im[:4], lab[:4], signs_data.classes)"
      ],
      "execution_count": 9,
      "outputs": [
        {
          "output_type": "display_data",
          "data": {
            "image/png": "[encoded data removed]",
            "text/plain": [
              "<Figure size 432x288 with 2 Axes>"
            ]
          },
          "metadata": {
            "tags": [],
            "needs_background": "light"
          }
        },
        {
          "output_type": "display_data",
          "data": {
            "image/png": "[encoded data removed]",
            "text/plain": [
              "<Figure size 432x288 with 2 Axes>"
            ]
          },
          "metadata": {
            "tags": [],
            "needs_background": "light"
          }
        },
        {
          "output_type": "display_data",
          "data": {
            "image/png": "[encoded data removed]",
            "text/plain": [
              "<Figure size 432x288 with 2 Axes>"
            ]
          },
          "metadata": {
            "tags": [],
            "needs_background": "light"
          }
        },
        {
          "output_type": "display_data",
          "data": {
            "image/png": "[encoded data removed]",
            "text/plain": [
              "<Figure size 432x288 with 2 Axes>"
            ]
          },
          "metadata": {
            "tags": [],
            "needs_background": "light"
          }
        }
      ]
    },
    {
      "cell_type": "markdown",
      "metadata": {
        "id": "e_CvomdWwhS2",
        "colab_type": "text"
      },
      "source": [
        "Function for training a model and valiadation after each epoch"
      ]
    },
    {
      "cell_type": "code",
      "metadata": {
        "id": "cVPKt8Z-dMoV",
        "colab_type": "code",
        "colab": {}
      },
      "source": [
        "def trainModel(model, train_loader, val_loader, criterion, optimizer, num_epochs):\n",
        "  since = time.time()\n",
        "  statistics = pd.DataFrame()\n",
        "\n",
        "  for epoch in range(num_epochs):\n",
        "\n",
        "    # train phase\n",
        "    model.train()\n",
        "    running_total = 0\n",
        "    running_correct = 0\n",
        "    running_loss = 0.0\n",
        "    i = 0\n",
        "\n",
        "    for inputs, labels in train_loader:\n",
        "      i += 1\n",
        "      inputs = inputs.to(device)\n",
        "      labels = labels.to(device)\n",
        "\n",
        "      optimizer.zero_grad()\n",
        "      outputs = model(inputs)\n",
        "      loss = criterion(outputs, labels)\n",
        "      loss.backward()\n",
        "      optimizer.step()\n",
        "\n",
        "      _, preds = torch.max(outputs, 1)\n",
        "      running_loss += loss.item()\n",
        "      running_total += len(labels)\n",
        "      running_correct += torch.sum(preds == labels.data).item()\n",
        "    \n",
        "    epoch_loss = running_loss / i\n",
        "    epoch_acc = running_correct / running_total\n",
        "\n",
        "    statistics.loc[epoch, \"train_loss\"] = epoch_loss\n",
        "    statistics.loc[epoch, \"train_acc\"] = epoch_acc\n",
        "\n",
        "    # validation phase\n",
        "    \n",
        "    running_total = 0\n",
        "    running_correct = 0\n",
        "    running_loss = 0.0\n",
        "    i = 0\n",
        "    \n",
        "    model.eval()\n",
        "    with torch.set_grad_enabled(False):\n",
        "      for inputs, labels in val_loader:\n",
        "        i += 1\n",
        "        inputs = inputs.to(device)\n",
        "        labels = labels.to(device)\n",
        "\n",
        "        outputs = model(inputs)\n",
        "        loss = criterion(outputs, labels)\n",
        "\n",
        "        _, preds = torch.max(outputs, 1)\n",
        "\n",
        "        running_loss += loss.item()\n",
        "        running_total += len(labels)\n",
        "        running_correct += torch.sum(preds == labels.data).item()\n",
        "    \n",
        "    epoch_loss = running_loss / i\n",
        "    epoch_acc = running_correct / running_total\n",
        "\n",
        "    statistics.loc[epoch, \"val_loss\"] = epoch_loss\n",
        "    statistics.loc[epoch, \"val_acc\"] = epoch_acc\n",
        "\n",
        "\n",
        "  time_elapsed = time.time() - since\n",
        "  print('{:.0f} epochs complete in {:.0f}m {:.0f}s'.format(num_epochs, time_elapsed // 60, time_elapsed % 60))\n",
        "  print('Best training loss: {:.2f}, accuracy: {:.2f}'.format(statistics[\"train_loss\"].max(), statistics[\"train_acc\"].max()))\n",
        "  print('Best validation loss: {:.2f}, accuracy: {:.2f}'.format(statistics[\"val_loss\"].max(), statistics[\"val_acc\"].max()))\n",
        "\n",
        "  return statistics\n"
      ],
      "execution_count": 0,
      "outputs": []
    },
    {
      "cell_type": "markdown",
      "metadata": {
        "id": "r8xXYFtb4BAe",
        "colab_type": "text"
      },
      "source": [
        "Function for testing models and collecting statistics for each class"
      ]
    },
    {
      "cell_type": "code",
      "metadata": {
        "id": "gINbD3nkyzL-",
        "colab_type": "code",
        "colab": {}
      },
      "source": [
        "def testModels(models, criterion, loader = test_loader, classes = test_data.classes ):\n",
        "  statistics = pd.DataFrame()\n",
        "  n_classes = len(classes)\n",
        "\n",
        "  for m, model in enumerate(models):\n",
        "    stat_classes = pd.DataFrame(data = np.zeros((n_classes, 2)), columns=['total', 'correct'])  \n",
        "    model.eval()\n",
        "    running_total = 0\n",
        "    running_correct = 0\n",
        "    running_loss = 0.0\n",
        "    i=0\n",
        "    \n",
        "\n",
        "    for inputs, labels in loader:\n",
        "      i += 1\n",
        "      inputs = inputs.to(device)\n",
        "      labels = labels.to(device)\n",
        "      with torch.set_grad_enabled(False):\n",
        "        outputs = model(inputs)\n",
        "        loss = criterion(outputs, labels)\n",
        "        _, preds = torch.max(outputs, 1)\n",
        "\n",
        "        running_loss += loss.item()\n",
        "        running_total += len(labels)\n",
        "        running_correct += torch.sum(preds == labels.data).item()\n",
        "\n",
        "        for il, cor_label in enumerate(labels):\n",
        "          pred_class = int(classes[preds[il]])\n",
        "          cor_class = int(classes[cor_label])        \n",
        "          stat_classes.loc[cor_class, 'total'] += 1\n",
        "          if pred_class == cor_class:\n",
        "            stat_classes.loc[cor_class, 'correct'] += 1\n",
        "\n",
        "    statistics.loc[\"model\", m] = str(model)\n",
        "    statistics.loc[\"loss\", m] = running_loss / i\n",
        "    statistics.loc[\"acc\", m] = running_correct / running_total\n",
        "    stat_classes[\"cl_acc\"] =  stat_classes[\"correct\"] / stat_classes[\"total\"]\n",
        "    for cl, acc in stat_classes[\"cl_acc\"].items():\n",
        "      statistics.loc[cl, m] = acc\n",
        "\n",
        "  return statistics\n"
      ],
      "execution_count": 0,
      "outputs": []
    },
    {
      "cell_type": "code",
      "metadata": {
        "id": "BGoskbvcy5V7",
        "colab_type": "code",
        "colab": {}
      },
      "source": [
        "def count_parameters(model):\n",
        "    return sum(p.numel() for p in model.parameters() if p.requires_grad)"
      ],
      "execution_count": 0,
      "outputs": []
    },
    {
      "cell_type": "markdown",
      "metadata": {
        "id": "b6XDnBE0wv-y",
        "colab_type": "text"
      },
      "source": [
        "First model: 2 Conv layers (depth 12 and 24) with Max Pooling.\n",
        "Two linear layers"
      ]
    },
    {
      "cell_type": "code",
      "metadata": {
        "id": "vLL1ItN558cX",
        "colab_type": "code",
        "colab": {}
      },
      "source": [
        "class ConvModel1(torch.nn.Module):\n",
        "    def __init__(self):\n",
        "        super(ConvModel1, self).__init__()\n",
        "        self.conv1 = nn.Conv2d(3, 12, 3)\n",
        "        self.pool = nn.MaxPool2d(2, 2)\n",
        "        self.conv2 = nn.Conv2d(12, 24, 3)\n",
        "        self.fc1 = nn.Linear(24 * 8 * 8, 120)\n",
        "        self.fc2 = nn.Linear(120, OUTPUT_DIM)\n",
        "        self.relu = nn.ReLU()\n",
        "        self.softmax = nn.Softmax(1)\n",
        "\n",
        "    def forward(self, x):\n",
        "        x = self.conv1(x)\n",
        "        x = self.relu(x)\n",
        "        x = self.pool(x)  \n",
        "        x = self.conv2(x)\n",
        "        x = self.relu(x)\n",
        "        x = self.pool(x)  \n",
        "        x = x.view(-1, 24 * 8 * 8)\n",
        "        x = self.fc1(x)\n",
        "        x = self.relu(x)\n",
        "        x = self.fc2(x)\n",
        "        x = self.softmax(x)\n",
        "        return x\n",
        "\n"
      ],
      "execution_count": 0,
      "outputs": []
    },
    {
      "cell_type": "code",
      "metadata": {
        "colab_type": "code",
        "id": "9qrqq08GV7Ff",
        "colab": {}
      },
      "source": [
        "epochs = 50\n",
        "model1 = ConvModel1()\n",
        "device = torch.device(\"cuda:0\" if torch.cuda.is_available() else \"cpu\")\n",
        "model1.to(device)\n",
        "criterion = nn.CrossEntropyLoss()\n",
        "learning_rate = 0.01\n",
        "optimizer = torch.optim.SGD(model1.parameters(), lr=learning_rate, momentum=0.9)"
      ],
      "execution_count": 0,
      "outputs": []
    },
    {
      "cell_type": "code",
      "metadata": {
        "id": "CBHyQcaQy7oG",
        "colab_type": "code",
        "colab": {
          "base_uri": "https://localhost:8080/",
          "height": 34
        },
        "outputId": "a0e29f21-f301-4acf-a250-ad04165b97ae"
      },
      "source": [
        "count_parameters(model1)"
      ],
      "execution_count": 30,
      "outputs": [
        {
          "output_type": "execute_result",
          "data": {
            "text/plain": [
              "192595"
            ]
          },
          "metadata": {
            "tags": []
          },
          "execution_count": 30
        }
      ]
    },
    {
      "cell_type": "code",
      "metadata": {
        "colab_type": "code",
        "outputId": "b9a08e23-34ea-47ba-8dfc-e679010571fa",
        "id": "5gtQBa1rV5oB",
        "colab": {
          "base_uri": "https://localhost:8080/",
          "height": 1000
        }
      },
      "source": [
        "stats_model1 = trainModel(model1, train_loader, validation_loader, criterion, optimizer, epochs)"
      ],
      "execution_count": 16,
      "outputs": [
        {
          "output_type": "stream",
          "text": [
            "50 epochs complete in 13m 28s\n",
            "Best training loss: 3.76, accuracy: 0.45\n",
            "Best validation loss: 3.75, accuracy: 0.45\n"
          ],
          "name": "stdout"
        },
        {
          "output_type": "execute_result",
          "data": {
            "text/html": [
              "<div>\n",
              "<style scoped>\n",
              "    .dataframe tbody tr th:only-of-type {\n",
              "        vertical-align: middle;\n",
              "    }\n",
              "\n",
              "    .dataframe tbody tr th {\n",
              "        vertical-align: top;\n",
              "    }\n",
              "\n",
              "    .dataframe thead th {\n",
              "        text-align: right;\n",
              "    }\n",
              "</style>\n",
              "<table border=\"1\" class=\"dataframe\">\n",
              "  <thead>\n",
              "    <tr style=\"text-align: right;\">\n",
              "      <th></th>\n",
              "      <th>train_loss</th>\n",
              "      <th>train_acc</th>\n",
              "      <th>val_loss</th>\n",
              "      <th>val_acc</th>\n",
              "    </tr>\n",
              "  </thead>\n",
              "  <tbody>\n",
              "    <tr>\n",
              "      <th>0</th>\n",
              "      <td>3.759699</td>\n",
              "      <td>0.045843</td>\n",
              "      <td>3.749356</td>\n",
              "      <td>0.054202</td>\n",
              "    </tr>\n",
              "    <tr>\n",
              "      <th>1</th>\n",
              "      <td>3.724766</td>\n",
              "      <td>0.067107</td>\n",
              "      <td>3.707084</td>\n",
              "      <td>0.088764</td>\n",
              "    </tr>\n",
              "    <tr>\n",
              "      <th>2</th>\n",
              "      <td>3.673843</td>\n",
              "      <td>0.129272</td>\n",
              "      <td>3.684936</td>\n",
              "      <td>0.114781</td>\n",
              "    </tr>\n",
              "    <tr>\n",
              "      <th>3</th>\n",
              "      <td>3.651233</td>\n",
              "      <td>0.148687</td>\n",
              "      <td>3.648806</td>\n",
              "      <td>0.158271</td>\n",
              "    </tr>\n",
              "    <tr>\n",
              "      <th>4</th>\n",
              "      <td>3.585313</td>\n",
              "      <td>0.217738</td>\n",
              "      <td>3.557671</td>\n",
              "      <td>0.246652</td>\n",
              "    </tr>\n",
              "    <tr>\n",
              "      <th>5</th>\n",
              "      <td>3.549133</td>\n",
              "      <td>0.254941</td>\n",
              "      <td>3.538613</td>\n",
              "      <td>0.264762</td>\n",
              "    </tr>\n",
              "    <tr>\n",
              "      <th>6</th>\n",
              "      <td>3.528302</td>\n",
              "      <td>0.275982</td>\n",
              "      <td>3.517444</td>\n",
              "      <td>0.285295</td>\n",
              "    </tr>\n",
              "    <tr>\n",
              "      <th>7</th>\n",
              "      <td>3.521940</td>\n",
              "      <td>0.279967</td>\n",
              "      <td>3.514939</td>\n",
              "      <td>0.286571</td>\n",
              "    </tr>\n",
              "    <tr>\n",
              "      <th>8</th>\n",
              "      <td>3.514623</td>\n",
              "      <td>0.286566</td>\n",
              "      <td>3.518127</td>\n",
              "      <td>0.284020</td>\n",
              "    </tr>\n",
              "    <tr>\n",
              "      <th>9</th>\n",
              "      <td>3.511882</td>\n",
              "      <td>0.289818</td>\n",
              "      <td>3.502465</td>\n",
              "      <td>0.298559</td>\n",
              "    </tr>\n",
              "    <tr>\n",
              "      <th>10</th>\n",
              "      <td>3.507948</td>\n",
              "      <td>0.293197</td>\n",
              "      <td>3.511868</td>\n",
              "      <td>0.288866</td>\n",
              "    </tr>\n",
              "    <tr>\n",
              "      <th>11</th>\n",
              "      <td>3.507050</td>\n",
              "      <td>0.293771</td>\n",
              "      <td>3.500779</td>\n",
              "      <td>0.299452</td>\n",
              "    </tr>\n",
              "    <tr>\n",
              "      <th>12</th>\n",
              "      <td>3.503937</td>\n",
              "      <td>0.296831</td>\n",
              "      <td>3.503453</td>\n",
              "      <td>0.296518</td>\n",
              "    </tr>\n",
              "    <tr>\n",
              "      <th>13</th>\n",
              "      <td>3.504359</td>\n",
              "      <td>0.296225</td>\n",
              "      <td>3.505430</td>\n",
              "      <td>0.295243</td>\n",
              "    </tr>\n",
              "    <tr>\n",
              "      <th>14</th>\n",
              "      <td>3.501873</td>\n",
              "      <td>0.298776</td>\n",
              "      <td>3.497701</td>\n",
              "      <td>0.302130</td>\n",
              "    </tr>\n",
              "    <tr>\n",
              "      <th>15</th>\n",
              "      <td>3.500301</td>\n",
              "      <td>0.300210</td>\n",
              "      <td>3.497922</td>\n",
              "      <td>0.302640</td>\n",
              "    </tr>\n",
              "    <tr>\n",
              "      <th>16</th>\n",
              "      <td>3.498501</td>\n",
              "      <td>0.301549</td>\n",
              "      <td>3.495270</td>\n",
              "      <td>0.304681</td>\n",
              "    </tr>\n",
              "    <tr>\n",
              "      <th>17</th>\n",
              "      <td>3.497204</td>\n",
              "      <td>0.302920</td>\n",
              "      <td>3.493971</td>\n",
              "      <td>0.305956</td>\n",
              "    </tr>\n",
              "    <tr>\n",
              "      <th>18</th>\n",
              "      <td>3.496830</td>\n",
              "      <td>0.302825</td>\n",
              "      <td>3.494800</td>\n",
              "      <td>0.305573</td>\n",
              "    </tr>\n",
              "    <tr>\n",
              "      <th>19</th>\n",
              "      <td>3.494443</td>\n",
              "      <td>0.305311</td>\n",
              "      <td>3.492959</td>\n",
              "      <td>0.307104</td>\n",
              "    </tr>\n",
              "    <tr>\n",
              "      <th>20</th>\n",
              "      <td>3.494390</td>\n",
              "      <td>0.305566</td>\n",
              "      <td>3.491993</td>\n",
              "      <td>0.307869</td>\n",
              "    </tr>\n",
              "    <tr>\n",
              "      <th>21</th>\n",
              "      <td>3.493064</td>\n",
              "      <td>0.306586</td>\n",
              "      <td>3.494622</td>\n",
              "      <td>0.305446</td>\n",
              "    </tr>\n",
              "    <tr>\n",
              "      <th>22</th>\n",
              "      <td>3.493681</td>\n",
              "      <td>0.305885</td>\n",
              "      <td>3.490787</td>\n",
              "      <td>0.309017</td>\n",
              "    </tr>\n",
              "    <tr>\n",
              "      <th>23</th>\n",
              "      <td>3.492143</td>\n",
              "      <td>0.307383</td>\n",
              "      <td>3.490821</td>\n",
              "      <td>0.308762</td>\n",
              "    </tr>\n",
              "    <tr>\n",
              "      <th>24</th>\n",
              "      <td>3.478743</td>\n",
              "      <td>0.321857</td>\n",
              "      <td>3.457650</td>\n",
              "      <td>0.344471</td>\n",
              "    </tr>\n",
              "    <tr>\n",
              "      <th>25</th>\n",
              "      <td>3.457559</td>\n",
              "      <td>0.343503</td>\n",
              "      <td>3.455184</td>\n",
              "      <td>0.345364</td>\n",
              "    </tr>\n",
              "    <tr>\n",
              "      <th>26</th>\n",
              "      <td>3.456083</td>\n",
              "      <td>0.344459</td>\n",
              "      <td>3.454236</td>\n",
              "      <td>0.346129</td>\n",
              "    </tr>\n",
              "    <tr>\n",
              "      <th>27</th>\n",
              "      <td>3.455318</td>\n",
              "      <td>0.345224</td>\n",
              "      <td>3.452600</td>\n",
              "      <td>0.347405</td>\n",
              "    </tr>\n",
              "    <tr>\n",
              "      <th>28</th>\n",
              "      <td>3.454047</td>\n",
              "      <td>0.345926</td>\n",
              "      <td>3.452331</td>\n",
              "      <td>0.347405</td>\n",
              "    </tr>\n",
              "    <tr>\n",
              "      <th>29</th>\n",
              "      <td>3.453586</td>\n",
              "      <td>0.346276</td>\n",
              "      <td>3.451625</td>\n",
              "      <td>0.348170</td>\n",
              "    </tr>\n",
              "    <tr>\n",
              "      <th>30</th>\n",
              "      <td>3.453179</td>\n",
              "      <td>0.346627</td>\n",
              "      <td>3.452775</td>\n",
              "      <td>0.347022</td>\n",
              "    </tr>\n",
              "    <tr>\n",
              "      <th>31</th>\n",
              "      <td>3.452356</td>\n",
              "      <td>0.346946</td>\n",
              "      <td>3.450839</td>\n",
              "      <td>0.348808</td>\n",
              "    </tr>\n",
              "    <tr>\n",
              "      <th>32</th>\n",
              "      <td>3.443775</td>\n",
              "      <td>0.356223</td>\n",
              "      <td>3.427790</td>\n",
              "      <td>0.374315</td>\n",
              "    </tr>\n",
              "    <tr>\n",
              "      <th>33</th>\n",
              "      <td>3.424686</td>\n",
              "      <td>0.376403</td>\n",
              "      <td>3.424149</td>\n",
              "      <td>0.376355</td>\n",
              "    </tr>\n",
              "    <tr>\n",
              "      <th>34</th>\n",
              "      <td>3.422677</td>\n",
              "      <td>0.377742</td>\n",
              "      <td>3.424266</td>\n",
              "      <td>0.376355</td>\n",
              "    </tr>\n",
              "    <tr>\n",
              "      <th>35</th>\n",
              "      <td>3.421928</td>\n",
              "      <td>0.378060</td>\n",
              "      <td>3.422757</td>\n",
              "      <td>0.377120</td>\n",
              "    </tr>\n",
              "    <tr>\n",
              "      <th>36</th>\n",
              "      <td>3.421349</td>\n",
              "      <td>0.378347</td>\n",
              "      <td>3.422324</td>\n",
              "      <td>0.377248</td>\n",
              "    </tr>\n",
              "    <tr>\n",
              "      <th>37</th>\n",
              "      <td>3.417702</td>\n",
              "      <td>0.381950</td>\n",
              "      <td>3.395378</td>\n",
              "      <td>0.406708</td>\n",
              "    </tr>\n",
              "    <tr>\n",
              "      <th>38</th>\n",
              "      <td>3.392262</td>\n",
              "      <td>0.408697</td>\n",
              "      <td>3.390481</td>\n",
              "      <td>0.410534</td>\n",
              "    </tr>\n",
              "    <tr>\n",
              "      <th>39</th>\n",
              "      <td>3.389621</td>\n",
              "      <td>0.411056</td>\n",
              "      <td>3.392914</td>\n",
              "      <td>0.406963</td>\n",
              "    </tr>\n",
              "    <tr>\n",
              "      <th>40</th>\n",
              "      <td>3.389137</td>\n",
              "      <td>0.411215</td>\n",
              "      <td>3.389155</td>\n",
              "      <td>0.411300</td>\n",
              "    </tr>\n",
              "    <tr>\n",
              "      <th>41</th>\n",
              "      <td>3.388012</td>\n",
              "      <td>0.411917</td>\n",
              "      <td>3.389569</td>\n",
              "      <td>0.410534</td>\n",
              "    </tr>\n",
              "    <tr>\n",
              "      <th>42</th>\n",
              "      <td>3.387320</td>\n",
              "      <td>0.412076</td>\n",
              "      <td>3.388409</td>\n",
              "      <td>0.411045</td>\n",
              "    </tr>\n",
              "    <tr>\n",
              "      <th>43</th>\n",
              "      <td>3.387080</td>\n",
              "      <td>0.412267</td>\n",
              "      <td>3.388856</td>\n",
              "      <td>0.410789</td>\n",
              "    </tr>\n",
              "    <tr>\n",
              "      <th>44</th>\n",
              "      <td>3.387061</td>\n",
              "      <td>0.412235</td>\n",
              "      <td>3.388163</td>\n",
              "      <td>0.411172</td>\n",
              "    </tr>\n",
              "    <tr>\n",
              "      <th>45</th>\n",
              "      <td>3.387622</td>\n",
              "      <td>0.411885</td>\n",
              "      <td>3.388136</td>\n",
              "      <td>0.411427</td>\n",
              "    </tr>\n",
              "    <tr>\n",
              "      <th>46</th>\n",
              "      <td>3.386546</td>\n",
              "      <td>0.412331</td>\n",
              "      <td>3.387886</td>\n",
              "      <td>0.411555</td>\n",
              "    </tr>\n",
              "    <tr>\n",
              "      <th>47</th>\n",
              "      <td>3.386593</td>\n",
              "      <td>0.412331</td>\n",
              "      <td>3.387629</td>\n",
              "      <td>0.411427</td>\n",
              "    </tr>\n",
              "    <tr>\n",
              "      <th>48</th>\n",
              "      <td>3.379727</td>\n",
              "      <td>0.419823</td>\n",
              "      <td>3.347667</td>\n",
              "      <td>0.454661</td>\n",
              "    </tr>\n",
              "    <tr>\n",
              "      <th>49</th>\n",
              "      <td>3.347006</td>\n",
              "      <td>0.454540</td>\n",
              "      <td>3.349690</td>\n",
              "      <td>0.450325</td>\n",
              "    </tr>\n",
              "  </tbody>\n",
              "</table>\n",
              "</div>"
            ],
            "text/plain": [
              "    train_loss  train_acc  val_loss   val_acc\n",
              "0     3.759699   0.045843  3.749356  0.054202\n",
              "1     3.724766   0.067107  3.707084  0.088764\n",
              "2     3.673843   0.129272  3.684936  0.114781\n",
              "3     3.651233   0.148687  3.648806  0.158271\n",
              "4     3.585313   0.217738  3.557671  0.246652\n",
              "5     3.549133   0.254941  3.538613  0.264762\n",
              "6     3.528302   0.275982  3.517444  0.285295\n",
              "7     3.521940   0.279967  3.514939  0.286571\n",
              "8     3.514623   0.286566  3.518127  0.284020\n",
              "9     3.511882   0.289818  3.502465  0.298559\n",
              "10    3.507948   0.293197  3.511868  0.288866\n",
              "11    3.507050   0.293771  3.500779  0.299452\n",
              "12    3.503937   0.296831  3.503453  0.296518\n",
              "13    3.504359   0.296225  3.505430  0.295243\n",
              "14    3.501873   0.298776  3.497701  0.302130\n",
              "15    3.500301   0.300210  3.497922  0.302640\n",
              "16    3.498501   0.301549  3.495270  0.304681\n",
              "17    3.497204   0.302920  3.493971  0.305956\n",
              "18    3.496830   0.302825  3.494800  0.305573\n",
              "19    3.494443   0.305311  3.492959  0.307104\n",
              "20    3.494390   0.305566  3.491993  0.307869\n",
              "21    3.493064   0.306586  3.494622  0.305446\n",
              "22    3.493681   0.305885  3.490787  0.309017\n",
              "23    3.492143   0.307383  3.490821  0.308762\n",
              "24    3.478743   0.321857  3.457650  0.344471\n",
              "25    3.457559   0.343503  3.455184  0.345364\n",
              "26    3.456083   0.344459  3.454236  0.346129\n",
              "27    3.455318   0.345224  3.452600  0.347405\n",
              "28    3.454047   0.345926  3.452331  0.347405\n",
              "29    3.453586   0.346276  3.451625  0.348170\n",
              "30    3.453179   0.346627  3.452775  0.347022\n",
              "31    3.452356   0.346946  3.450839  0.348808\n",
              "32    3.443775   0.356223  3.427790  0.374315\n",
              "33    3.424686   0.376403  3.424149  0.376355\n",
              "34    3.422677   0.377742  3.424266  0.376355\n",
              "35    3.421928   0.378060  3.422757  0.377120\n",
              "36    3.421349   0.378347  3.422324  0.377248\n",
              "37    3.417702   0.381950  3.395378  0.406708\n",
              "38    3.392262   0.408697  3.390481  0.410534\n",
              "39    3.389621   0.411056  3.392914  0.406963\n",
              "40    3.389137   0.411215  3.389155  0.411300\n",
              "41    3.388012   0.411917  3.389569  0.410534\n",
              "42    3.387320   0.412076  3.388409  0.411045\n",
              "43    3.387080   0.412267  3.388856  0.410789\n",
              "44    3.387061   0.412235  3.388163  0.411172\n",
              "45    3.387622   0.411885  3.388136  0.411427\n",
              "46    3.386546   0.412331  3.387886  0.411555\n",
              "47    3.386593   0.412331  3.387629  0.411427\n",
              "48    3.379727   0.419823  3.347667  0.454661\n",
              "49    3.347006   0.454540  3.349690  0.450325"
            ]
          },
          "metadata": {
            "tags": []
          },
          "execution_count": 16
        }
      ]
    },
    {
      "cell_type": "code",
      "metadata": {
        "id": "hOXL2Nsiz2D-",
        "colab_type": "code",
        "colab": {
          "base_uri": "https://localhost:8080/",
          "height": 513
        },
        "outputId": "1ee7b781-6bc6-4995-cd22-3f1759b0c6b8"
      },
      "source": [
        "stats_model1[['train_loss', 'val_loss']].plot()\n",
        "plt.show()\n",
        "stats_model1[['train_acc', 'val_acc']].plot()\n",
        "plt.show()"
      ],
      "execution_count": 34,
      "outputs": [
        {
          "output_type": "display_data",
          "data": {
            "image/png": "[encoded data removed]",
            "text/plain": [
              "<Figure size 432x288 with 1 Axes>"
            ]
          },
          "metadata": {
            "tags": [],
            "needs_background": "light"
          }
        },
        {
          "output_type": "display_data",
          "data": {
            "image/png": "[encoded data removed]",
            "text/plain": [
              "<Figure size 432x288 with 1 Axes>"
            ]
          },
          "metadata": {
            "tags": [],
            "needs_background": "light"
          }
        }
      ]
    },
    {
      "cell_type": "markdown",
      "metadata": {
        "id": "L5IswljBxAZq",
        "colab_type": "text"
      },
      "source": [
        "Second model:\n",
        "Extra convolutional layer with more features\n",
        "\n",
        "Added dropout after convolutional layers to reduce number of parameters to train and prevent possible overfitting. \n",
        "\n",
        "Added batch normalization after linear layer to stabilize the training\n"
      ]
    },
    {
      "cell_type": "code",
      "metadata": {
        "id": "m503mbaRLwtB",
        "colab_type": "code",
        "colab": {}
      },
      "source": [
        "class ConvModel2(torch.nn.Module):\n",
        "    def __init__(self):\n",
        "        super(ConvModel2, self).__init__()\n",
        "        self.conv1 = nn.Conv2d(3, 12, 3)\n",
        "        self.pool = nn.MaxPool2d(2, 2)\n",
        "        self.conv2 = nn.Conv2d(12, 24, 3)\n",
        "        self.conv3 = nn.Conv2d(24, 48, 3)\n",
        "        self.fc1 = nn.Linear(48 * 3 * 3, 120)\n",
        "        self.bn = nn.BatchNorm1d(120)\n",
        "        self.fc2 = nn.Linear(120, OUTPUT_DIM)\n",
        "        self.relu = nn.ReLU()\n",
        "        self.softmax = nn.Softmax(1)\n",
        "        self.dropout = nn.Dropout(0.25)\n",
        "\n",
        "    def forward(self, x):\n",
        "        x = self.conv1(x)\n",
        "        x = self.relu(x)\n",
        "        x = self.pool(x)\n",
        "\n",
        "        x = self.conv2(x)\n",
        "        x = self.relu(x)\n",
        "        x = self.pool(x) \n",
        "        x = self.dropout(x)\n",
        "\n",
        "        x = self.conv3(x)\n",
        "        x = self.relu(x)\n",
        "        x = self.pool(x) \n",
        "        x = self.dropout(x) \n",
        "\n",
        "        x = x.view(-1, 48 * 3 * 3)\n",
        "\n",
        "        x = self.fc1(x)\n",
        "        x = self.bn(x)\n",
        "        x = self.relu(x)\n",
        "\n",
        "        x = self.fc2(x)\n",
        "        x = self.softmax(x)\n",
        "\n",
        "        return x\n",
        "\n"
      ],
      "execution_count": 0,
      "outputs": []
    },
    {
      "cell_type": "code",
      "metadata": {
        "id": "LUzdkOYgbuXr",
        "colab_type": "code",
        "colab": {}
      },
      "source": [
        "model2 = ConvModel2()\n",
        "model2.to(device)\n",
        "optimizer = torch.optim.SGD(model2.parameters(), lr=learning_rate, momentum=0.9)"
      ],
      "execution_count": 0,
      "outputs": []
    },
    {
      "cell_type": "code",
      "metadata": {
        "id": "eMCYpKGMzAjU",
        "colab_type": "code",
        "colab": {
          "base_uri": "https://localhost:8080/",
          "height": 34
        },
        "outputId": "d4da4ce4-a92a-4763-8dec-33cd2445b837"
      },
      "source": [
        "count_parameters(model2)"
      ],
      "execution_count": 32,
      "outputs": [
        {
          "output_type": "execute_result",
          "data": {
            "text/plain": [
              "70771"
            ]
          },
          "metadata": {
            "tags": []
          },
          "execution_count": 32
        }
      ]
    },
    {
      "cell_type": "code",
      "metadata": {
        "id": "goGdWlWJbzNg",
        "colab_type": "code",
        "outputId": "b63f8f4d-b33c-4ca4-eea0-796dc92814e9",
        "colab": {
          "base_uri": "https://localhost:8080/",
          "height": 1000
        }
      },
      "source": [
        "stats_model2 = trainModel(model2, train_loader, validation_loader, criterion, optimizer, epochs)"
      ],
      "execution_count": 19,
      "outputs": [
        {
          "output_type": "stream",
          "text": [
            "50 epochs complete in 13m 48s\n",
            "Best training loss: 3.72, accuracy: 0.78\n",
            "Best validation loss: 3.63, accuracy: 0.78\n"
          ],
          "name": "stdout"
        },
        {
          "output_type": "execute_result",
          "data": {
            "text/html": [
              "<div>\n",
              "<style scoped>\n",
              "    .dataframe tbody tr th:only-of-type {\n",
              "        vertical-align: middle;\n",
              "    }\n",
              "\n",
              "    .dataframe tbody tr th {\n",
              "        vertical-align: top;\n",
              "    }\n",
              "\n",
              "    .dataframe thead th {\n",
              "        text-align: right;\n",
              "    }\n",
              "</style>\n",
              "<table border=\"1\" class=\"dataframe\">\n",
              "  <thead>\n",
              "    <tr style=\"text-align: right;\">\n",
              "      <th></th>\n",
              "      <th>train_loss</th>\n",
              "      <th>train_acc</th>\n",
              "      <th>val_loss</th>\n",
              "      <th>val_acc</th>\n",
              "    </tr>\n",
              "  </thead>\n",
              "  <tbody>\n",
              "    <tr>\n",
              "      <th>0</th>\n",
              "      <td>3.716043</td>\n",
              "      <td>0.092547</td>\n",
              "      <td>3.633186</td>\n",
              "      <td>0.167071</td>\n",
              "    </tr>\n",
              "    <tr>\n",
              "      <th>1</th>\n",
              "      <td>3.531890</td>\n",
              "      <td>0.272890</td>\n",
              "      <td>3.510111</td>\n",
              "      <td>0.290014</td>\n",
              "    </tr>\n",
              "    <tr>\n",
              "      <th>2</th>\n",
              "      <td>3.458773</td>\n",
              "      <td>0.346053</td>\n",
              "      <td>3.418353</td>\n",
              "      <td>0.375207</td>\n",
              "    </tr>\n",
              "    <tr>\n",
              "      <th>3</th>\n",
              "      <td>3.389620</td>\n",
              "      <td>0.421927</td>\n",
              "      <td>3.333060</td>\n",
              "      <td>0.468945</td>\n",
              "    </tr>\n",
              "    <tr>\n",
              "      <th>4</th>\n",
              "      <td>3.344965</td>\n",
              "      <td>0.462255</td>\n",
              "      <td>3.327172</td>\n",
              "      <td>0.470858</td>\n",
              "    </tr>\n",
              "    <tr>\n",
              "      <th>5</th>\n",
              "      <td>3.314382</td>\n",
              "      <td>0.492476</td>\n",
              "      <td>3.251469</td>\n",
              "      <td>0.561025</td>\n",
              "    </tr>\n",
              "    <tr>\n",
              "      <th>6</th>\n",
              "      <td>3.258020</td>\n",
              "      <td>0.552091</td>\n",
              "      <td>3.225012</td>\n",
              "      <td>0.576967</td>\n",
              "    </tr>\n",
              "    <tr>\n",
              "      <th>7</th>\n",
              "      <td>3.221748</td>\n",
              "      <td>0.586234</td>\n",
              "      <td>3.179712</td>\n",
              "      <td>0.623772</td>\n",
              "    </tr>\n",
              "    <tr>\n",
              "      <th>8</th>\n",
              "      <td>3.189178</td>\n",
              "      <td>0.622609</td>\n",
              "      <td>3.151192</td>\n",
              "      <td>0.651830</td>\n",
              "    </tr>\n",
              "    <tr>\n",
              "      <th>9</th>\n",
              "      <td>3.174322</td>\n",
              "      <td>0.633066</td>\n",
              "      <td>3.154300</td>\n",
              "      <td>0.649662</td>\n",
              "    </tr>\n",
              "    <tr>\n",
              "      <th>10</th>\n",
              "      <td>3.154152</td>\n",
              "      <td>0.653086</td>\n",
              "      <td>3.123042</td>\n",
              "      <td>0.678485</td>\n",
              "    </tr>\n",
              "    <tr>\n",
              "      <th>11</th>\n",
              "      <td>3.147252</td>\n",
              "      <td>0.658474</td>\n",
              "      <td>3.121920</td>\n",
              "      <td>0.678867</td>\n",
              "    </tr>\n",
              "    <tr>\n",
              "      <th>12</th>\n",
              "      <td>3.143713</td>\n",
              "      <td>0.660578</td>\n",
              "      <td>3.125609</td>\n",
              "      <td>0.676062</td>\n",
              "    </tr>\n",
              "    <tr>\n",
              "      <th>13</th>\n",
              "      <td>3.140630</td>\n",
              "      <td>0.662905</td>\n",
              "      <td>3.121363</td>\n",
              "      <td>0.678995</td>\n",
              "    </tr>\n",
              "    <tr>\n",
              "      <th>14</th>\n",
              "      <td>3.138881</td>\n",
              "      <td>0.664818</td>\n",
              "      <td>3.119342</td>\n",
              "      <td>0.679760</td>\n",
              "    </tr>\n",
              "    <tr>\n",
              "      <th>15</th>\n",
              "      <td>3.136370</td>\n",
              "      <td>0.666635</td>\n",
              "      <td>3.118372</td>\n",
              "      <td>0.680781</td>\n",
              "    </tr>\n",
              "    <tr>\n",
              "      <th>16</th>\n",
              "      <td>3.135493</td>\n",
              "      <td>0.667751</td>\n",
              "      <td>3.119197</td>\n",
              "      <td>0.680015</td>\n",
              "    </tr>\n",
              "    <tr>\n",
              "      <th>17</th>\n",
              "      <td>3.136589</td>\n",
              "      <td>0.665583</td>\n",
              "      <td>3.118494</td>\n",
              "      <td>0.680908</td>\n",
              "    </tr>\n",
              "    <tr>\n",
              "      <th>18</th>\n",
              "      <td>3.133507</td>\n",
              "      <td>0.667846</td>\n",
              "      <td>3.117125</td>\n",
              "      <td>0.681163</td>\n",
              "    </tr>\n",
              "    <tr>\n",
              "      <th>19</th>\n",
              "      <td>3.132523</td>\n",
              "      <td>0.670142</td>\n",
              "      <td>3.114451</td>\n",
              "      <td>0.689070</td>\n",
              "    </tr>\n",
              "    <tr>\n",
              "      <th>20</th>\n",
              "      <td>3.125818</td>\n",
              "      <td>0.677569</td>\n",
              "      <td>3.106747</td>\n",
              "      <td>0.692896</td>\n",
              "    </tr>\n",
              "    <tr>\n",
              "      <th>21</th>\n",
              "      <td>3.123574</td>\n",
              "      <td>0.678653</td>\n",
              "      <td>3.106930</td>\n",
              "      <td>0.692131</td>\n",
              "    </tr>\n",
              "    <tr>\n",
              "      <th>22</th>\n",
              "      <td>3.121784</td>\n",
              "      <td>0.680088</td>\n",
              "      <td>3.106945</td>\n",
              "      <td>0.692769</td>\n",
              "    </tr>\n",
              "    <tr>\n",
              "      <th>23</th>\n",
              "      <td>3.120220</td>\n",
              "      <td>0.681873</td>\n",
              "      <td>3.101321</td>\n",
              "      <td>0.698125</td>\n",
              "    </tr>\n",
              "    <tr>\n",
              "      <th>24</th>\n",
              "      <td>3.109527</td>\n",
              "      <td>0.694083</td>\n",
              "      <td>3.082694</td>\n",
              "      <td>0.722357</td>\n",
              "    </tr>\n",
              "    <tr>\n",
              "      <th>25</th>\n",
              "      <td>3.090887</td>\n",
              "      <td>0.713976</td>\n",
              "      <td>3.070625</td>\n",
              "      <td>0.729881</td>\n",
              "    </tr>\n",
              "    <tr>\n",
              "      <th>26</th>\n",
              "      <td>3.086261</td>\n",
              "      <td>0.717387</td>\n",
              "      <td>3.071467</td>\n",
              "      <td>0.728606</td>\n",
              "    </tr>\n",
              "    <tr>\n",
              "      <th>27</th>\n",
              "      <td>3.084765</td>\n",
              "      <td>0.718439</td>\n",
              "      <td>3.069681</td>\n",
              "      <td>0.729626</td>\n",
              "    </tr>\n",
              "    <tr>\n",
              "      <th>28</th>\n",
              "      <td>3.083782</td>\n",
              "      <td>0.718981</td>\n",
              "      <td>3.070419</td>\n",
              "      <td>0.728223</td>\n",
              "    </tr>\n",
              "    <tr>\n",
              "      <th>29</th>\n",
              "      <td>3.076743</td>\n",
              "      <td>0.726345</td>\n",
              "      <td>3.049823</td>\n",
              "      <td>0.750670</td>\n",
              "    </tr>\n",
              "    <tr>\n",
              "      <th>30</th>\n",
              "      <td>3.063163</td>\n",
              "      <td>0.740787</td>\n",
              "      <td>3.050067</td>\n",
              "      <td>0.750542</td>\n",
              "    </tr>\n",
              "    <tr>\n",
              "      <th>31</th>\n",
              "      <td>3.064177</td>\n",
              "      <td>0.739225</td>\n",
              "      <td>3.048872</td>\n",
              "      <td>0.750925</td>\n",
              "    </tr>\n",
              "    <tr>\n",
              "      <th>32</th>\n",
              "      <td>3.062683</td>\n",
              "      <td>0.740213</td>\n",
              "      <td>3.048262</td>\n",
              "      <td>0.751562</td>\n",
              "    </tr>\n",
              "    <tr>\n",
              "      <th>33</th>\n",
              "      <td>3.061428</td>\n",
              "      <td>0.741297</td>\n",
              "      <td>3.049818</td>\n",
              "      <td>0.750159</td>\n",
              "    </tr>\n",
              "    <tr>\n",
              "      <th>34</th>\n",
              "      <td>3.060471</td>\n",
              "      <td>0.741903</td>\n",
              "      <td>3.048817</td>\n",
              "      <td>0.751180</td>\n",
              "    </tr>\n",
              "    <tr>\n",
              "      <th>35</th>\n",
              "      <td>3.060240</td>\n",
              "      <td>0.742189</td>\n",
              "      <td>3.047746</td>\n",
              "      <td>0.751945</td>\n",
              "    </tr>\n",
              "    <tr>\n",
              "      <th>36</th>\n",
              "      <td>3.059890</td>\n",
              "      <td>0.741998</td>\n",
              "      <td>3.048121</td>\n",
              "      <td>0.751690</td>\n",
              "    </tr>\n",
              "    <tr>\n",
              "      <th>37</th>\n",
              "      <td>3.058990</td>\n",
              "      <td>0.742859</td>\n",
              "      <td>3.051293</td>\n",
              "      <td>0.750159</td>\n",
              "    </tr>\n",
              "    <tr>\n",
              "      <th>38</th>\n",
              "      <td>3.058952</td>\n",
              "      <td>0.742986</td>\n",
              "      <td>3.047419</td>\n",
              "      <td>0.752200</td>\n",
              "    </tr>\n",
              "    <tr>\n",
              "      <th>39</th>\n",
              "      <td>3.058331</td>\n",
              "      <td>0.743560</td>\n",
              "      <td>3.048105</td>\n",
              "      <td>0.751435</td>\n",
              "    </tr>\n",
              "    <tr>\n",
              "      <th>40</th>\n",
              "      <td>3.057899</td>\n",
              "      <td>0.743783</td>\n",
              "      <td>3.047986</td>\n",
              "      <td>0.751307</td>\n",
              "    </tr>\n",
              "    <tr>\n",
              "      <th>41</th>\n",
              "      <td>3.058235</td>\n",
              "      <td>0.743433</td>\n",
              "      <td>3.046882</td>\n",
              "      <td>0.752328</td>\n",
              "    </tr>\n",
              "    <tr>\n",
              "      <th>42</th>\n",
              "      <td>3.055218</td>\n",
              "      <td>0.746844</td>\n",
              "      <td>3.031909</td>\n",
              "      <td>0.768779</td>\n",
              "    </tr>\n",
              "    <tr>\n",
              "      <th>43</th>\n",
              "      <td>3.042320</td>\n",
              "      <td>0.760361</td>\n",
              "      <td>3.031732</td>\n",
              "      <td>0.767887</td>\n",
              "    </tr>\n",
              "    <tr>\n",
              "      <th>44</th>\n",
              "      <td>3.039956</td>\n",
              "      <td>0.762274</td>\n",
              "      <td>3.030516</td>\n",
              "      <td>0.768907</td>\n",
              "    </tr>\n",
              "    <tr>\n",
              "      <th>45</th>\n",
              "      <td>3.038832</td>\n",
              "      <td>0.762943</td>\n",
              "      <td>3.027944</td>\n",
              "      <td>0.774391</td>\n",
              "    </tr>\n",
              "    <tr>\n",
              "      <th>46</th>\n",
              "      <td>3.030757</td>\n",
              "      <td>0.772890</td>\n",
              "      <td>3.018282</td>\n",
              "      <td>0.782043</td>\n",
              "    </tr>\n",
              "    <tr>\n",
              "      <th>47</th>\n",
              "      <td>3.027926</td>\n",
              "      <td>0.775281</td>\n",
              "      <td>3.017526</td>\n",
              "      <td>0.782681</td>\n",
              "    </tr>\n",
              "    <tr>\n",
              "      <th>48</th>\n",
              "      <td>3.026864</td>\n",
              "      <td>0.775727</td>\n",
              "      <td>3.017650</td>\n",
              "      <td>0.782808</td>\n",
              "    </tr>\n",
              "    <tr>\n",
              "      <th>49</th>\n",
              "      <td>3.025978</td>\n",
              "      <td>0.776715</td>\n",
              "      <td>3.017437</td>\n",
              "      <td>0.782171</td>\n",
              "    </tr>\n",
              "  </tbody>\n",
              "</table>\n",
              "</div>"
            ],
            "text/plain": [
              "    train_loss  train_acc  val_loss   val_acc\n",
              "0     3.716043   0.092547  3.633186  0.167071\n",
              "1     3.531890   0.272890  3.510111  0.290014\n",
              "2     3.458773   0.346053  3.418353  0.375207\n",
              "3     3.389620   0.421927  3.333060  0.468945\n",
              "4     3.344965   0.462255  3.327172  0.470858\n",
              "5     3.314382   0.492476  3.251469  0.561025\n",
              "6     3.258020   0.552091  3.225012  0.576967\n",
              "7     3.221748   0.586234  3.179712  0.623772\n",
              "8     3.189178   0.622609  3.151192  0.651830\n",
              "9     3.174322   0.633066  3.154300  0.649662\n",
              "10    3.154152   0.653086  3.123042  0.678485\n",
              "11    3.147252   0.658474  3.121920  0.678867\n",
              "12    3.143713   0.660578  3.125609  0.676062\n",
              "13    3.140630   0.662905  3.121363  0.678995\n",
              "14    3.138881   0.664818  3.119342  0.679760\n",
              "15    3.136370   0.666635  3.118372  0.680781\n",
              "16    3.135493   0.667751  3.119197  0.680015\n",
              "17    3.136589   0.665583  3.118494  0.680908\n",
              "18    3.133507   0.667846  3.117125  0.681163\n",
              "19    3.132523   0.670142  3.114451  0.689070\n",
              "20    3.125818   0.677569  3.106747  0.692896\n",
              "21    3.123574   0.678653  3.106930  0.692131\n",
              "22    3.121784   0.680088  3.106945  0.692769\n",
              "23    3.120220   0.681873  3.101321  0.698125\n",
              "24    3.109527   0.694083  3.082694  0.722357\n",
              "25    3.090887   0.713976  3.070625  0.729881\n",
              "26    3.086261   0.717387  3.071467  0.728606\n",
              "27    3.084765   0.718439  3.069681  0.729626\n",
              "28    3.083782   0.718981  3.070419  0.728223\n",
              "29    3.076743   0.726345  3.049823  0.750670\n",
              "30    3.063163   0.740787  3.050067  0.750542\n",
              "31    3.064177   0.739225  3.048872  0.750925\n",
              "32    3.062683   0.740213  3.048262  0.751562\n",
              "33    3.061428   0.741297  3.049818  0.750159\n",
              "34    3.060471   0.741903  3.048817  0.751180\n",
              "35    3.060240   0.742189  3.047746  0.751945\n",
              "36    3.059890   0.741998  3.048121  0.751690\n",
              "37    3.058990   0.742859  3.051293  0.750159\n",
              "38    3.058952   0.742986  3.047419  0.752200\n",
              "39    3.058331   0.743560  3.048105  0.751435\n",
              "40    3.057899   0.743783  3.047986  0.751307\n",
              "41    3.058235   0.743433  3.046882  0.752328\n",
              "42    3.055218   0.746844  3.031909  0.768779\n",
              "43    3.042320   0.760361  3.031732  0.767887\n",
              "44    3.039956   0.762274  3.030516  0.768907\n",
              "45    3.038832   0.762943  3.027944  0.774391\n",
              "46    3.030757   0.772890  3.018282  0.782043\n",
              "47    3.027926   0.775281  3.017526  0.782681\n",
              "48    3.026864   0.775727  3.017650  0.782808\n",
              "49    3.025978   0.776715  3.017437  0.782171"
            ]
          },
          "metadata": {
            "tags": []
          },
          "execution_count": 19
        }
      ]
    },
    {
      "cell_type": "code",
      "metadata": {
        "id": "It5VfmfE0YvU",
        "colab_type": "code",
        "colab": {
          "base_uri": "https://localhost:8080/",
          "height": 513
        },
        "outputId": "8e0aa1a3-4e9f-4493-9e30-11b9c228ad86"
      },
      "source": [
        "stats_model2[['train_loss', 'val_loss']].plot()\n",
        "plt.show()\n",
        "stats_model2[['train_acc', 'val_acc']].plot()\n",
        "plt.show()"
      ],
      "execution_count": 38,
      "outputs": [
        {
          "output_type": "display_data",
          "data": {
            "image/png": "[encoded data removed]",
            "text/plain": [
              "<Figure size 432x288 with 1 Axes>"
            ]
          },
          "metadata": {
            "tags": [],
            "needs_background": "light"
          }
        },
        {
          "output_type": "display_data",
          "data": {
            "image/png": "[encoded data removed]",
            "text/plain": [
              "<Figure size 432x288 with 1 Axes>"
            ]
          },
          "metadata": {
            "tags": [],
            "needs_background": "light"
          }
        }
      ]
    },
    {
      "cell_type": "markdown",
      "metadata": {
        "id": "p-6ww7gSx78w",
        "colab_type": "text"
      },
      "source": [
        "Another convolutional layer significantly improved performance of the model.\n",
        "Number of parameters is reduced, though we use more layers now"
      ]
    },
    {
      "cell_type": "markdown",
      "metadata": {
        "id": "udWWpEzjxdFx",
        "colab_type": "text"
      },
      "source": [
        "Third model.\n",
        "\n",
        "Added another fully connected layer with batch normalization"
      ]
    },
    {
      "cell_type": "code",
      "metadata": {
        "id": "byIW2mAKb8_Z",
        "colab_type": "code",
        "colab": {}
      },
      "source": [
        "class ConvModel3(torch.nn.Module):\n",
        "    def __init__(self):\n",
        "        super(ConvModel3, self).__init__()\n",
        "        self.conv1 = nn.Conv2d(3, 12, 3)\n",
        "        self.pool = nn.MaxPool2d(2, 2)\n",
        "        self.conv2 = nn.Conv2d(12, 24, 3)\n",
        "        self.conv3 = nn.Conv2d(24, 48, 3)\n",
        "        self.fc1 = nn.Linear(48 * 3 * 3, 120)\n",
        "        self.bn1 = nn.BatchNorm1d(120)\n",
        "        self.fc2 = nn.Linear(120, 48)\n",
        "        self.bn2 = nn.BatchNorm1d(48)\n",
        "        self.fc3 = nn.Linear(48, OUTPUT_DIM)\n",
        "        self.relu = nn.ReLU()\n",
        "        self.softmax = nn.Softmax(1)\n",
        "        self.dropout = nn.Dropout(0.25)\n",
        "\n",
        "    def forward(self, x):\n",
        "        x = self.conv1(x)\n",
        "        x = self.relu(x)\n",
        "        x = self.pool(x)\n",
        "\n",
        "        x = self.conv2(x)\n",
        "        x = self.relu(x)\n",
        "        x = self.pool(x) \n",
        "        x = self.dropout(x)\n",
        "\n",
        "        x = self.conv3(x)\n",
        "        x = self.relu(x)\n",
        "        x = self.pool(x) \n",
        "        x = self.dropout(x) \n",
        "\n",
        "        x = x.view(-1, 48 * 3 * 3)\n",
        "\n",
        "        x = self.fc1(x)\n",
        "        x = self.bn1(x)\n",
        "        x = self.relu(x)\n",
        "\n",
        "        x = self.fc2(x)\n",
        "        x = self.bn2(x)\n",
        "\n",
        "        x = self.fc3(x)\n",
        "        \n",
        "        x = self.softmax(x)\n",
        "\n",
        "        return x\n",
        "\n"
      ],
      "execution_count": 0,
      "outputs": []
    },
    {
      "cell_type": "code",
      "metadata": {
        "id": "eU6wss3gfJJe",
        "colab_type": "code",
        "colab": {}
      },
      "source": [
        "model3 = ConvModel3()\n",
        "model3.to(device)\n",
        "optimizer = torch.optim.SGD(model3.parameters(), lr=learning_rate, momentum=0.9)"
      ],
      "execution_count": 0,
      "outputs": []
    },
    {
      "cell_type": "code",
      "metadata": {
        "id": "HwhNec9e043Z",
        "colab_type": "code",
        "colab": {
          "base_uri": "https://localhost:8080/",
          "height": 34
        },
        "outputId": "4765b7bf-078b-4401-aec2-f4f491d40227"
      },
      "source": [
        "count_parameters(model3)"
      ],
      "execution_count": 39,
      "outputs": [
        {
          "output_type": "execute_result",
          "data": {
            "text/plain": [
              "73579"
            ]
          },
          "metadata": {
            "tags": []
          },
          "execution_count": 39
        }
      ]
    },
    {
      "cell_type": "code",
      "metadata": {
        "id": "rO0S3erEfODn",
        "colab_type": "code",
        "outputId": "a69ce455-80be-483c-8986-ca200b8e2d52",
        "colab": {
          "base_uri": "https://localhost:8080/",
          "height": 1000
        }
      },
      "source": [
        "stats_model3 = trainModel(model3, train_loader, validation_loader, criterion, optimizer, epochs)"
      ],
      "execution_count": 22,
      "outputs": [
        {
          "output_type": "stream",
          "text": [
            "50 epochs complete in 14m 3s\n",
            "Best training loss: 3.64, accuracy: 0.77\n",
            "Best validation loss: 3.48, accuracy: 0.77\n"
          ],
          "name": "stdout"
        },
        {
          "output_type": "execute_result",
          "data": {
            "text/html": [
              "<div>\n",
              "<style scoped>\n",
              "    .dataframe tbody tr th:only-of-type {\n",
              "        vertical-align: middle;\n",
              "    }\n",
              "\n",
              "    .dataframe tbody tr th {\n",
              "        vertical-align: top;\n",
              "    }\n",
              "\n",
              "    .dataframe thead th {\n",
              "        text-align: right;\n",
              "    }\n",
              "</style>\n",
              "<table border=\"1\" class=\"dataframe\">\n",
              "  <thead>\n",
              "    <tr style=\"text-align: right;\">\n",
              "      <th></th>\n",
              "      <th>train_loss</th>\n",
              "      <th>train_acc</th>\n",
              "      <th>val_loss</th>\n",
              "      <th>val_acc</th>\n",
              "    </tr>\n",
              "  </thead>\n",
              "  <tbody>\n",
              "    <tr>\n",
              "      <th>0</th>\n",
              "      <td>3.641721</td>\n",
              "      <td>0.176964</td>\n",
              "      <td>3.480522</td>\n",
              "      <td>0.317306</td>\n",
              "    </tr>\n",
              "    <tr>\n",
              "      <th>1</th>\n",
              "      <td>3.461829</td>\n",
              "      <td>0.344682</td>\n",
              "      <td>3.402951</td>\n",
              "      <td>0.405816</td>\n",
              "    </tr>\n",
              "    <tr>\n",
              "      <th>2</th>\n",
              "      <td>3.384085</td>\n",
              "      <td>0.426231</td>\n",
              "      <td>3.333274</td>\n",
              "      <td>0.477108</td>\n",
              "    </tr>\n",
              "    <tr>\n",
              "      <th>3</th>\n",
              "      <td>3.318233</td>\n",
              "      <td>0.491329</td>\n",
              "      <td>3.259096</td>\n",
              "      <td>0.548272</td>\n",
              "    </tr>\n",
              "    <tr>\n",
              "      <th>4</th>\n",
              "      <td>3.242081</td>\n",
              "      <td>0.572271</td>\n",
              "      <td>3.192830</td>\n",
              "      <td>0.612932</td>\n",
              "    </tr>\n",
              "    <tr>\n",
              "      <th>5</th>\n",
              "      <td>3.206557</td>\n",
              "      <td>0.601919</td>\n",
              "      <td>3.176174</td>\n",
              "      <td>0.630277</td>\n",
              "    </tr>\n",
              "    <tr>\n",
              "      <th>6</th>\n",
              "      <td>3.179045</td>\n",
              "      <td>0.630420</td>\n",
              "      <td>3.148651</td>\n",
              "      <td>0.655274</td>\n",
              "    </tr>\n",
              "    <tr>\n",
              "      <th>7</th>\n",
              "      <td>3.159728</td>\n",
              "      <td>0.647093</td>\n",
              "      <td>3.140099</td>\n",
              "      <td>0.662416</td>\n",
              "    </tr>\n",
              "    <tr>\n",
              "      <th>8</th>\n",
              "      <td>3.153838</td>\n",
              "      <td>0.651460</td>\n",
              "      <td>3.137594</td>\n",
              "      <td>0.663181</td>\n",
              "    </tr>\n",
              "    <tr>\n",
              "      <th>9</th>\n",
              "      <td>3.151285</td>\n",
              "      <td>0.653182</td>\n",
              "      <td>3.136284</td>\n",
              "      <td>0.664456</td>\n",
              "    </tr>\n",
              "    <tr>\n",
              "      <th>10</th>\n",
              "      <td>3.149779</td>\n",
              "      <td>0.653437</td>\n",
              "      <td>3.136267</td>\n",
              "      <td>0.664073</td>\n",
              "    </tr>\n",
              "    <tr>\n",
              "      <th>11</th>\n",
              "      <td>3.145449</td>\n",
              "      <td>0.657262</td>\n",
              "      <td>3.132278</td>\n",
              "      <td>0.667644</td>\n",
              "    </tr>\n",
              "    <tr>\n",
              "      <th>12</th>\n",
              "      <td>3.139859</td>\n",
              "      <td>0.663574</td>\n",
              "      <td>3.124713</td>\n",
              "      <td>0.680525</td>\n",
              "    </tr>\n",
              "    <tr>\n",
              "      <th>13</th>\n",
              "      <td>3.122095</td>\n",
              "      <td>0.683244</td>\n",
              "      <td>3.108060</td>\n",
              "      <td>0.693024</td>\n",
              "    </tr>\n",
              "    <tr>\n",
              "      <th>14</th>\n",
              "      <td>3.112110</td>\n",
              "      <td>0.693031</td>\n",
              "      <td>3.100209</td>\n",
              "      <td>0.701951</td>\n",
              "    </tr>\n",
              "    <tr>\n",
              "      <th>15</th>\n",
              "      <td>3.104288</td>\n",
              "      <td>0.701129</td>\n",
              "      <td>3.092836</td>\n",
              "      <td>0.707945</td>\n",
              "    </tr>\n",
              "    <tr>\n",
              "      <th>16</th>\n",
              "      <td>3.100266</td>\n",
              "      <td>0.703615</td>\n",
              "      <td>3.091480</td>\n",
              "      <td>0.708711</td>\n",
              "    </tr>\n",
              "    <tr>\n",
              "      <th>17</th>\n",
              "      <td>3.096883</td>\n",
              "      <td>0.706867</td>\n",
              "      <td>3.092748</td>\n",
              "      <td>0.708073</td>\n",
              "    </tr>\n",
              "    <tr>\n",
              "      <th>18</th>\n",
              "      <td>3.097030</td>\n",
              "      <td>0.706229</td>\n",
              "      <td>3.084270</td>\n",
              "      <td>0.717766</td>\n",
              "    </tr>\n",
              "    <tr>\n",
              "      <th>19</th>\n",
              "      <td>3.088022</td>\n",
              "      <td>0.716718</td>\n",
              "      <td>3.079011</td>\n",
              "      <td>0.722229</td>\n",
              "    </tr>\n",
              "    <tr>\n",
              "      <th>20</th>\n",
              "      <td>3.084714</td>\n",
              "      <td>0.718790</td>\n",
              "      <td>3.077634</td>\n",
              "      <td>0.722357</td>\n",
              "    </tr>\n",
              "    <tr>\n",
              "      <th>21</th>\n",
              "      <td>3.083806</td>\n",
              "      <td>0.719778</td>\n",
              "      <td>3.076962</td>\n",
              "      <td>0.723122</td>\n",
              "    </tr>\n",
              "    <tr>\n",
              "      <th>22</th>\n",
              "      <td>3.083255</td>\n",
              "      <td>0.719746</td>\n",
              "      <td>3.077117</td>\n",
              "      <td>0.722995</td>\n",
              "    </tr>\n",
              "    <tr>\n",
              "      <th>23</th>\n",
              "      <td>3.082207</td>\n",
              "      <td>0.720511</td>\n",
              "      <td>3.077488</td>\n",
              "      <td>0.722612</td>\n",
              "    </tr>\n",
              "    <tr>\n",
              "      <th>24</th>\n",
              "      <td>3.082103</td>\n",
              "      <td>0.719969</td>\n",
              "      <td>3.077109</td>\n",
              "      <td>0.722484</td>\n",
              "    </tr>\n",
              "    <tr>\n",
              "      <th>25</th>\n",
              "      <td>3.079697</td>\n",
              "      <td>0.722966</td>\n",
              "      <td>3.070875</td>\n",
              "      <td>0.729754</td>\n",
              "    </tr>\n",
              "    <tr>\n",
              "      <th>26</th>\n",
              "      <td>3.065837</td>\n",
              "      <td>0.738045</td>\n",
              "      <td>3.055253</td>\n",
              "      <td>0.745441</td>\n",
              "    </tr>\n",
              "    <tr>\n",
              "      <th>27</th>\n",
              "      <td>3.058878</td>\n",
              "      <td>0.744549</td>\n",
              "      <td>3.056862</td>\n",
              "      <td>0.743783</td>\n",
              "    </tr>\n",
              "    <tr>\n",
              "      <th>28</th>\n",
              "      <td>3.058721</td>\n",
              "      <td>0.744134</td>\n",
              "      <td>3.054214</td>\n",
              "      <td>0.746716</td>\n",
              "    </tr>\n",
              "    <tr>\n",
              "      <th>29</th>\n",
              "      <td>3.054858</td>\n",
              "      <td>0.748725</td>\n",
              "      <td>3.050174</td>\n",
              "      <td>0.750925</td>\n",
              "    </tr>\n",
              "    <tr>\n",
              "      <th>30</th>\n",
              "      <td>3.052406</td>\n",
              "      <td>0.750351</td>\n",
              "      <td>3.048334</td>\n",
              "      <td>0.752328</td>\n",
              "    </tr>\n",
              "    <tr>\n",
              "      <th>31</th>\n",
              "      <td>3.050510</td>\n",
              "      <td>0.752614</td>\n",
              "      <td>3.048064</td>\n",
              "      <td>0.752583</td>\n",
              "    </tr>\n",
              "    <tr>\n",
              "      <th>32</th>\n",
              "      <td>3.050396</td>\n",
              "      <td>0.752104</td>\n",
              "      <td>3.048031</td>\n",
              "      <td>0.751945</td>\n",
              "    </tr>\n",
              "    <tr>\n",
              "      <th>33</th>\n",
              "      <td>3.049231</td>\n",
              "      <td>0.753220</td>\n",
              "      <td>3.048241</td>\n",
              "      <td>0.752200</td>\n",
              "    </tr>\n",
              "    <tr>\n",
              "      <th>34</th>\n",
              "      <td>3.048641</td>\n",
              "      <td>0.753666</td>\n",
              "      <td>3.048226</td>\n",
              "      <td>0.751945</td>\n",
              "    </tr>\n",
              "    <tr>\n",
              "      <th>35</th>\n",
              "      <td>3.048187</td>\n",
              "      <td>0.754049</td>\n",
              "      <td>3.048152</td>\n",
              "      <td>0.751690</td>\n",
              "    </tr>\n",
              "    <tr>\n",
              "      <th>36</th>\n",
              "      <td>3.047581</td>\n",
              "      <td>0.754495</td>\n",
              "      <td>3.048877</td>\n",
              "      <td>0.751307</td>\n",
              "    </tr>\n",
              "    <tr>\n",
              "      <th>37</th>\n",
              "      <td>3.048091</td>\n",
              "      <td>0.754304</td>\n",
              "      <td>3.047281</td>\n",
              "      <td>0.752072</td>\n",
              "    </tr>\n",
              "    <tr>\n",
              "      <th>38</th>\n",
              "      <td>3.047425</td>\n",
              "      <td>0.754463</td>\n",
              "      <td>3.046589</td>\n",
              "      <td>0.753475</td>\n",
              "    </tr>\n",
              "    <tr>\n",
              "      <th>39</th>\n",
              "      <td>3.041998</td>\n",
              "      <td>0.760998</td>\n",
              "      <td>3.033472</td>\n",
              "      <td>0.767632</td>\n",
              "    </tr>\n",
              "    <tr>\n",
              "      <th>40</th>\n",
              "      <td>3.037870</td>\n",
              "      <td>0.764856</td>\n",
              "      <td>3.032149</td>\n",
              "      <td>0.768524</td>\n",
              "    </tr>\n",
              "    <tr>\n",
              "      <th>41</th>\n",
              "      <td>3.037653</td>\n",
              "      <td>0.765015</td>\n",
              "      <td>3.032565</td>\n",
              "      <td>0.768014</td>\n",
              "    </tr>\n",
              "    <tr>\n",
              "      <th>42</th>\n",
              "      <td>3.036110</td>\n",
              "      <td>0.765972</td>\n",
              "      <td>3.031719</td>\n",
              "      <td>0.768524</td>\n",
              "    </tr>\n",
              "    <tr>\n",
              "      <th>43</th>\n",
              "      <td>3.034827</td>\n",
              "      <td>0.767247</td>\n",
              "      <td>3.031668</td>\n",
              "      <td>0.768652</td>\n",
              "    </tr>\n",
              "    <tr>\n",
              "      <th>44</th>\n",
              "      <td>3.034442</td>\n",
              "      <td>0.767693</td>\n",
              "      <td>3.031676</td>\n",
              "      <td>0.768524</td>\n",
              "    </tr>\n",
              "    <tr>\n",
              "      <th>45</th>\n",
              "      <td>3.035147</td>\n",
              "      <td>0.766546</td>\n",
              "      <td>3.031316</td>\n",
              "      <td>0.768907</td>\n",
              "    </tr>\n",
              "    <tr>\n",
              "      <th>46</th>\n",
              "      <td>3.034461</td>\n",
              "      <td>0.767374</td>\n",
              "      <td>3.031137</td>\n",
              "      <td>0.768779</td>\n",
              "    </tr>\n",
              "    <tr>\n",
              "      <th>47</th>\n",
              "      <td>3.034753</td>\n",
              "      <td>0.766609</td>\n",
              "      <td>3.031194</td>\n",
              "      <td>0.768652</td>\n",
              "    </tr>\n",
              "    <tr>\n",
              "      <th>48</th>\n",
              "      <td>3.034035</td>\n",
              "      <td>0.767534</td>\n",
              "      <td>3.031500</td>\n",
              "      <td>0.768524</td>\n",
              "    </tr>\n",
              "    <tr>\n",
              "      <th>49</th>\n",
              "      <td>3.033686</td>\n",
              "      <td>0.767598</td>\n",
              "      <td>3.031408</td>\n",
              "      <td>0.769035</td>\n",
              "    </tr>\n",
              "  </tbody>\n",
              "</table>\n",
              "</div>"
            ],
            "text/plain": [
              "    train_loss  train_acc  val_loss   val_acc\n",
              "0     3.641721   0.176964  3.480522  0.317306\n",
              "1     3.461829   0.344682  3.402951  0.405816\n",
              "2     3.384085   0.426231  3.333274  0.477108\n",
              "3     3.318233   0.491329  3.259096  0.548272\n",
              "4     3.242081   0.572271  3.192830  0.612932\n",
              "5     3.206557   0.601919  3.176174  0.630277\n",
              "6     3.179045   0.630420  3.148651  0.655274\n",
              "7     3.159728   0.647093  3.140099  0.662416\n",
              "8     3.153838   0.651460  3.137594  0.663181\n",
              "9     3.151285   0.653182  3.136284  0.664456\n",
              "10    3.149779   0.653437  3.136267  0.664073\n",
              "11    3.145449   0.657262  3.132278  0.667644\n",
              "12    3.139859   0.663574  3.124713  0.680525\n",
              "13    3.122095   0.683244  3.108060  0.693024\n",
              "14    3.112110   0.693031  3.100209  0.701951\n",
              "15    3.104288   0.701129  3.092836  0.707945\n",
              "16    3.100266   0.703615  3.091480  0.708711\n",
              "17    3.096883   0.706867  3.092748  0.708073\n",
              "18    3.097030   0.706229  3.084270  0.717766\n",
              "19    3.088022   0.716718  3.079011  0.722229\n",
              "20    3.084714   0.718790  3.077634  0.722357\n",
              "21    3.083806   0.719778  3.076962  0.723122\n",
              "22    3.083255   0.719746  3.077117  0.722995\n",
              "23    3.082207   0.720511  3.077488  0.722612\n",
              "24    3.082103   0.719969  3.077109  0.722484\n",
              "25    3.079697   0.722966  3.070875  0.729754\n",
              "26    3.065837   0.738045  3.055253  0.745441\n",
              "27    3.058878   0.744549  3.056862  0.743783\n",
              "28    3.058721   0.744134  3.054214  0.746716\n",
              "29    3.054858   0.748725  3.050174  0.750925\n",
              "30    3.052406   0.750351  3.048334  0.752328\n",
              "31    3.050510   0.752614  3.048064  0.752583\n",
              "32    3.050396   0.752104  3.048031  0.751945\n",
              "33    3.049231   0.753220  3.048241  0.752200\n",
              "34    3.048641   0.753666  3.048226  0.751945\n",
              "35    3.048187   0.754049  3.048152  0.751690\n",
              "36    3.047581   0.754495  3.048877  0.751307\n",
              "37    3.048091   0.754304  3.047281  0.752072\n",
              "38    3.047425   0.754463  3.046589  0.753475\n",
              "39    3.041998   0.760998  3.033472  0.767632\n",
              "40    3.037870   0.764856  3.032149  0.768524\n",
              "41    3.037653   0.765015  3.032565  0.768014\n",
              "42    3.036110   0.765972  3.031719  0.768524\n",
              "43    3.034827   0.767247  3.031668  0.768652\n",
              "44    3.034442   0.767693  3.031676  0.768524\n",
              "45    3.035147   0.766546  3.031316  0.768907\n",
              "46    3.034461   0.767374  3.031137  0.768779\n",
              "47    3.034753   0.766609  3.031194  0.768652\n",
              "48    3.034035   0.767534  3.031500  0.768524\n",
              "49    3.033686   0.767598  3.031408  0.769035"
            ]
          },
          "metadata": {
            "tags": []
          },
          "execution_count": 22
        }
      ]
    },
    {
      "cell_type": "code",
      "metadata": {
        "id": "FzOQjCuc0qO4",
        "colab_type": "code",
        "colab": {
          "base_uri": "https://localhost:8080/",
          "height": 513
        },
        "outputId": "dd5864d5-6015-4a1d-ea13-4288c5ffdd64"
      },
      "source": [
        "stats_model3[['train_loss', 'val_loss']].plot()\n",
        "plt.show()\n",
        "stats_model3[['train_acc', 'val_acc']].plot()\n",
        "plt.show()"
      ],
      "execution_count": 36,
      "outputs": [
        {
          "output_type": "display_data",
          "data": {
            "image/png": "[encoded data removed]",
            "text/plain": [
              "<Figure size 432x288 with 1 Axes>"
            ]
          },
          "metadata": {
            "tags": [],
            "needs_background": "light"
          }
        },
        {
          "output_type": "display_data",
          "data": {
            "image/png": "[encoded data removed]",
            "text/plain": [
              "<Figure size 432x288 with 1 Axes>"
            ]
          },
          "metadata": {
            "tags": [],
            "needs_background": "light"
          }
        }
      ]
    },
    {
      "cell_type": "markdown",
      "metadata": {
        "id": "sPN2pjtW1Es4",
        "colab_type": "text"
      },
      "source": [
        "Stacking another linear layer  haven't really improved the model"
      ]
    },
    {
      "cell_type": "markdown",
      "metadata": {
        "id": "3AEAyrMs1KaS",
        "colab_type": "text"
      },
      "source": [
        "Fourth model\n",
        "\n",
        "Now we will try to increase the number of extracted features in the convolutional part of the model.\n",
        "We increase number of dimensions for the first conv. layer and remove the polling after it.\n",
        "Dropout is used after each convolution"
      ]
    },
    {
      "cell_type": "code",
      "metadata": {
        "id": "hMCF9FiufQ1T",
        "colab_type": "code",
        "colab": {}
      },
      "source": [
        "class ConvModel4(torch.nn.Module):\n",
        "    def __init__(self):\n",
        "        super(ConvModel4, self).__init__()\n",
        "        self.conv1 = nn.Conv2d(3, 24, 3)\n",
        "        self.pool = nn.MaxPool2d(2, 2)\n",
        "        self.conv2 = nn.Conv2d(24, 24, 3)\n",
        "        self.conv3 = nn.Conv2d(24, 48, 3)\n",
        "        self.fc1 = nn.Linear(48 * 8 * 8, 120)\n",
        "        self.bn1 = nn.BatchNorm1d(120)\n",
        "        self.fc2 = nn.Linear(120, OUTPUT_DIM)\n",
        "        self.relu = nn.ReLU()\n",
        "        self.softmax = nn.Softmax(1)\n",
        "        self.dropout = nn.Dropout(0.25)\n",
        "\n",
        "    def forward(self, x):\n",
        "        x = self.conv1(x)\n",
        "        x = self.relu(x)\n",
        "        x = self.dropout(x)\n",
        "\n",
        "        x = self.conv2(x)\n",
        "        x = self.relu(x)\n",
        "        x = self.pool(x) \n",
        "        x = self.dropout(x)\n",
        "\n",
        "        x = self.conv3(x)\n",
        "        x = self.relu(x)\n",
        "        x = self.pool(x) \n",
        "        x = self.dropout(x) \n",
        "\n",
        "        x = x.view(-1, 48 * 8 * 8)\n",
        "\n",
        "        x = self.fc1(x)\n",
        "        x = self.bn1(x)\n",
        "        x = self.relu(x)\n",
        "\n",
        "        x = self.fc2(x)        \n",
        "        x = self.softmax(x)\n",
        "\n",
        "        return x\n",
        "\n"
      ],
      "execution_count": 0,
      "outputs": []
    },
    {
      "cell_type": "code",
      "metadata": {
        "id": "zhTDlIkDij3p",
        "colab_type": "code",
        "colab": {}
      },
      "source": [
        "model4 = ConvModel4()\n",
        "model4.to(device)\n",
        "optimizer = torch.optim.SGD(model4.parameters(), lr=learning_rate, momentum=0.9)"
      ],
      "execution_count": 0,
      "outputs": []
    },
    {
      "cell_type": "code",
      "metadata": {
        "id": "AGWyNjyO1lE0",
        "colab_type": "code",
        "colab": {
          "base_uri": "https://localhost:8080/",
          "height": 34
        },
        "outputId": "6aa46ca4-0ed2-4a10-e7eb-d239ae46abf5"
      },
      "source": [
        "count_parameters(model4)"
      ],
      "execution_count": 45,
      "outputs": [
        {
          "output_type": "execute_result",
          "data": {
            "text/plain": [
              "390499"
            ]
          },
          "metadata": {
            "tags": []
          },
          "execution_count": 45
        }
      ]
    },
    {
      "cell_type": "code",
      "metadata": {
        "id": "fFECXisfioMy",
        "colab_type": "code",
        "outputId": "42f3c2c1-10ab-48c9-9738-40c1a4588ba7",
        "colab": {
          "base_uri": "https://localhost:8080/",
          "height": 1000
        }
      },
      "source": [
        "stats_model4 = trainModel(model4, train_loader, validation_loader, criterion, optimizer, epochs)"
      ],
      "execution_count": 46,
      "outputs": [
        {
          "output_type": "stream",
          "text": [
            "50 epochs complete in 14m 45s\n",
            "Best training loss: 3.63, accuracy: 0.97\n",
            "Best validation loss: 3.48, accuracy: 0.96\n"
          ],
          "name": "stdout"
        },
        {
          "output_type": "execute_result",
          "data": {
            "text/html": [
              "<div>\n",
              "<style scoped>\n",
              "    .dataframe tbody tr th:only-of-type {\n",
              "        vertical-align: middle;\n",
              "    }\n",
              "\n",
              "    .dataframe tbody tr th {\n",
              "        vertical-align: top;\n",
              "    }\n",
              "\n",
              "    .dataframe thead th {\n",
              "        text-align: right;\n",
              "    }\n",
              "</style>\n",
              "<table border=\"1\" class=\"dataframe\">\n",
              "  <thead>\n",
              "    <tr style=\"text-align: right;\">\n",
              "      <th></th>\n",
              "      <th>train_loss</th>\n",
              "      <th>train_acc</th>\n",
              "      <th>val_loss</th>\n",
              "      <th>val_acc</th>\n",
              "    </tr>\n",
              "  </thead>\n",
              "  <tbody>\n",
              "    <tr>\n",
              "      <th>0</th>\n",
              "      <td>3.626736</td>\n",
              "      <td>0.187994</td>\n",
              "      <td>3.484992</td>\n",
              "      <td>0.335799</td>\n",
              "    </tr>\n",
              "    <tr>\n",
              "      <th>1</th>\n",
              "      <td>3.387689</td>\n",
              "      <td>0.426199</td>\n",
              "      <td>3.300511</td>\n",
              "      <td>0.508864</td>\n",
              "    </tr>\n",
              "    <tr>\n",
              "      <th>2</th>\n",
              "      <td>3.256498</td>\n",
              "      <td>0.556236</td>\n",
              "      <td>3.154371</td>\n",
              "      <td>0.656676</td>\n",
              "    </tr>\n",
              "    <tr>\n",
              "      <th>3</th>\n",
              "      <td>3.141428</td>\n",
              "      <td>0.674382</td>\n",
              "      <td>3.102464</td>\n",
              "      <td>0.698380</td>\n",
              "    </tr>\n",
              "    <tr>\n",
              "      <th>4</th>\n",
              "      <td>3.089023</td>\n",
              "      <td>0.725740</td>\n",
              "      <td>3.042159</td>\n",
              "      <td>0.765336</td>\n",
              "    </tr>\n",
              "    <tr>\n",
              "      <th>5</th>\n",
              "      <td>3.054946</td>\n",
              "      <td>0.754591</td>\n",
              "      <td>3.030800</td>\n",
              "      <td>0.770437</td>\n",
              "    </tr>\n",
              "    <tr>\n",
              "      <th>6</th>\n",
              "      <td>3.046110</td>\n",
              "      <td>0.760138</td>\n",
              "      <td>3.020376</td>\n",
              "      <td>0.790460</td>\n",
              "    </tr>\n",
              "    <tr>\n",
              "      <th>7</th>\n",
              "      <td>3.016845</td>\n",
              "      <td>0.790838</td>\n",
              "      <td>2.996986</td>\n",
              "      <td>0.803724</td>\n",
              "    </tr>\n",
              "    <tr>\n",
              "      <th>8</th>\n",
              "      <td>3.001149</td>\n",
              "      <td>0.805694</td>\n",
              "      <td>2.982774</td>\n",
              "      <td>0.817753</td>\n",
              "    </tr>\n",
              "    <tr>\n",
              "      <th>9</th>\n",
              "      <td>2.993234</td>\n",
              "      <td>0.810858</td>\n",
              "      <td>2.981993</td>\n",
              "      <td>0.817753</td>\n",
              "    </tr>\n",
              "    <tr>\n",
              "      <th>10</th>\n",
              "      <td>2.984469</td>\n",
              "      <td>0.820231</td>\n",
              "      <td>2.966531</td>\n",
              "      <td>0.833695</td>\n",
              "    </tr>\n",
              "    <tr>\n",
              "      <th>11</th>\n",
              "      <td>2.976235</td>\n",
              "      <td>0.827627</td>\n",
              "      <td>2.961502</td>\n",
              "      <td>0.841219</td>\n",
              "    </tr>\n",
              "    <tr>\n",
              "      <th>12</th>\n",
              "      <td>2.966408</td>\n",
              "      <td>0.837796</td>\n",
              "      <td>2.947588</td>\n",
              "      <td>0.856651</td>\n",
              "    </tr>\n",
              "    <tr>\n",
              "      <th>13</th>\n",
              "      <td>2.948419</td>\n",
              "      <td>0.856797</td>\n",
              "      <td>2.930276</td>\n",
              "      <td>0.871062</td>\n",
              "    </tr>\n",
              "    <tr>\n",
              "      <th>14</th>\n",
              "      <td>2.938008</td>\n",
              "      <td>0.866552</td>\n",
              "      <td>2.923407</td>\n",
              "      <td>0.879735</td>\n",
              "    </tr>\n",
              "    <tr>\n",
              "      <th>15</th>\n",
              "      <td>2.917518</td>\n",
              "      <td>0.889856</td>\n",
              "      <td>2.902303</td>\n",
              "      <td>0.900268</td>\n",
              "    </tr>\n",
              "    <tr>\n",
              "      <th>16</th>\n",
              "      <td>2.903239</td>\n",
              "      <td>0.902958</td>\n",
              "      <td>2.896308</td>\n",
              "      <td>0.906134</td>\n",
              "    </tr>\n",
              "    <tr>\n",
              "      <th>17</th>\n",
              "      <td>2.892945</td>\n",
              "      <td>0.913001</td>\n",
              "      <td>2.883456</td>\n",
              "      <td>0.919015</td>\n",
              "    </tr>\n",
              "    <tr>\n",
              "      <th>18</th>\n",
              "      <td>2.885990</td>\n",
              "      <td>0.918707</td>\n",
              "      <td>2.879062</td>\n",
              "      <td>0.922586</td>\n",
              "    </tr>\n",
              "    <tr>\n",
              "      <th>19</th>\n",
              "      <td>2.881283</td>\n",
              "      <td>0.923011</td>\n",
              "      <td>2.878108</td>\n",
              "      <td>0.923352</td>\n",
              "    </tr>\n",
              "    <tr>\n",
              "      <th>20</th>\n",
              "      <td>2.879890</td>\n",
              "      <td>0.923935</td>\n",
              "      <td>2.877407</td>\n",
              "      <td>0.923479</td>\n",
              "    </tr>\n",
              "    <tr>\n",
              "      <th>21</th>\n",
              "      <td>2.877642</td>\n",
              "      <td>0.926422</td>\n",
              "      <td>2.867269</td>\n",
              "      <td>0.934192</td>\n",
              "    </tr>\n",
              "    <tr>\n",
              "      <th>22</th>\n",
              "      <td>2.865342</td>\n",
              "      <td>0.938919</td>\n",
              "      <td>2.858281</td>\n",
              "      <td>0.944777</td>\n",
              "    </tr>\n",
              "    <tr>\n",
              "      <th>23</th>\n",
              "      <td>2.857025</td>\n",
              "      <td>0.948578</td>\n",
              "      <td>2.850430</td>\n",
              "      <td>0.952174</td>\n",
              "    </tr>\n",
              "    <tr>\n",
              "      <th>24</th>\n",
              "      <td>2.851131</td>\n",
              "      <td>0.953233</td>\n",
              "      <td>2.849882</td>\n",
              "      <td>0.952174</td>\n",
              "    </tr>\n",
              "    <tr>\n",
              "      <th>25</th>\n",
              "      <td>2.849656</td>\n",
              "      <td>0.953392</td>\n",
              "      <td>2.849979</td>\n",
              "      <td>0.951664</td>\n",
              "    </tr>\n",
              "    <tr>\n",
              "      <th>26</th>\n",
              "      <td>2.849250</td>\n",
              "      <td>0.953743</td>\n",
              "      <td>2.849358</td>\n",
              "      <td>0.952302</td>\n",
              "    </tr>\n",
              "    <tr>\n",
              "      <th>27</th>\n",
              "      <td>2.848654</td>\n",
              "      <td>0.954061</td>\n",
              "      <td>2.848642</td>\n",
              "      <td>0.952430</td>\n",
              "    </tr>\n",
              "    <tr>\n",
              "      <th>28</th>\n",
              "      <td>2.848657</td>\n",
              "      <td>0.953806</td>\n",
              "      <td>2.849053</td>\n",
              "      <td>0.952047</td>\n",
              "    </tr>\n",
              "    <tr>\n",
              "      <th>29</th>\n",
              "      <td>2.848088</td>\n",
              "      <td>0.954285</td>\n",
              "      <td>2.848565</td>\n",
              "      <td>0.952940</td>\n",
              "    </tr>\n",
              "    <tr>\n",
              "      <th>30</th>\n",
              "      <td>2.846201</td>\n",
              "      <td>0.956197</td>\n",
              "      <td>2.845160</td>\n",
              "      <td>0.956256</td>\n",
              "    </tr>\n",
              "    <tr>\n",
              "      <th>31</th>\n",
              "      <td>2.842868</td>\n",
              "      <td>0.959800</td>\n",
              "      <td>2.844104</td>\n",
              "      <td>0.957276</td>\n",
              "    </tr>\n",
              "    <tr>\n",
              "      <th>32</th>\n",
              "      <td>2.842219</td>\n",
              "      <td>0.960119</td>\n",
              "      <td>2.843815</td>\n",
              "      <td>0.959061</td>\n",
              "    </tr>\n",
              "    <tr>\n",
              "      <th>33</th>\n",
              "      <td>2.839094</td>\n",
              "      <td>0.963817</td>\n",
              "      <td>2.839384</td>\n",
              "      <td>0.962122</td>\n",
              "    </tr>\n",
              "    <tr>\n",
              "      <th>34</th>\n",
              "      <td>2.836506</td>\n",
              "      <td>0.966431</td>\n",
              "      <td>2.838614</td>\n",
              "      <td>0.963015</td>\n",
              "    </tr>\n",
              "    <tr>\n",
              "      <th>35</th>\n",
              "      <td>2.835337</td>\n",
              "      <td>0.967005</td>\n",
              "      <td>2.838376</td>\n",
              "      <td>0.962887</td>\n",
              "    </tr>\n",
              "    <tr>\n",
              "      <th>36</th>\n",
              "      <td>2.834788</td>\n",
              "      <td>0.967292</td>\n",
              "      <td>2.837876</td>\n",
              "      <td>0.963270</td>\n",
              "    </tr>\n",
              "    <tr>\n",
              "      <th>37</th>\n",
              "      <td>2.835040</td>\n",
              "      <td>0.966909</td>\n",
              "      <td>2.837374</td>\n",
              "      <td>0.964035</td>\n",
              "    </tr>\n",
              "    <tr>\n",
              "      <th>38</th>\n",
              "      <td>2.834678</td>\n",
              "      <td>0.967100</td>\n",
              "      <td>2.837679</td>\n",
              "      <td>0.963398</td>\n",
              "    </tr>\n",
              "    <tr>\n",
              "      <th>39</th>\n",
              "      <td>2.834459</td>\n",
              "      <td>0.967387</td>\n",
              "      <td>2.837317</td>\n",
              "      <td>0.963653</td>\n",
              "    </tr>\n",
              "    <tr>\n",
              "      <th>40</th>\n",
              "      <td>2.834154</td>\n",
              "      <td>0.967610</td>\n",
              "      <td>2.837476</td>\n",
              "      <td>0.963908</td>\n",
              "    </tr>\n",
              "    <tr>\n",
              "      <th>41</th>\n",
              "      <td>2.834305</td>\n",
              "      <td>0.967323</td>\n",
              "      <td>2.838492</td>\n",
              "      <td>0.962887</td>\n",
              "    </tr>\n",
              "    <tr>\n",
              "      <th>42</th>\n",
              "      <td>2.834175</td>\n",
              "      <td>0.967387</td>\n",
              "      <td>2.837172</td>\n",
              "      <td>0.963780</td>\n",
              "    </tr>\n",
              "    <tr>\n",
              "      <th>43</th>\n",
              "      <td>2.833969</td>\n",
              "      <td>0.967483</td>\n",
              "      <td>2.837619</td>\n",
              "      <td>0.963398</td>\n",
              "    </tr>\n",
              "    <tr>\n",
              "      <th>44</th>\n",
              "      <td>2.833814</td>\n",
              "      <td>0.967642</td>\n",
              "      <td>2.837237</td>\n",
              "      <td>0.963780</td>\n",
              "    </tr>\n",
              "    <tr>\n",
              "      <th>45</th>\n",
              "      <td>2.834094</td>\n",
              "      <td>0.967515</td>\n",
              "      <td>2.837235</td>\n",
              "      <td>0.963653</td>\n",
              "    </tr>\n",
              "    <tr>\n",
              "      <th>46</th>\n",
              "      <td>2.834046</td>\n",
              "      <td>0.967483</td>\n",
              "      <td>2.837495</td>\n",
              "      <td>0.963270</td>\n",
              "    </tr>\n",
              "    <tr>\n",
              "      <th>47</th>\n",
              "      <td>2.834115</td>\n",
              "      <td>0.967387</td>\n",
              "      <td>2.837162</td>\n",
              "      <td>0.963780</td>\n",
              "    </tr>\n",
              "    <tr>\n",
              "      <th>48</th>\n",
              "      <td>2.833596</td>\n",
              "      <td>0.967642</td>\n",
              "      <td>2.837415</td>\n",
              "      <td>0.963525</td>\n",
              "    </tr>\n",
              "    <tr>\n",
              "      <th>49</th>\n",
              "      <td>2.833553</td>\n",
              "      <td>0.967738</td>\n",
              "      <td>2.836938</td>\n",
              "      <td>0.963653</td>\n",
              "    </tr>\n",
              "  </tbody>\n",
              "</table>\n",
              "</div>"
            ],
            "text/plain": [
              "    train_loss  train_acc  val_loss   val_acc\n",
              "0     3.626736   0.187994  3.484992  0.335799\n",
              "1     3.387689   0.426199  3.300511  0.508864\n",
              "2     3.256498   0.556236  3.154371  0.656676\n",
              "3     3.141428   0.674382  3.102464  0.698380\n",
              "4     3.089023   0.725740  3.042159  0.765336\n",
              "5     3.054946   0.754591  3.030800  0.770437\n",
              "6     3.046110   0.760138  3.020376  0.790460\n",
              "7     3.016845   0.790838  2.996986  0.803724\n",
              "8     3.001149   0.805694  2.982774  0.817753\n",
              "9     2.993234   0.810858  2.981993  0.817753\n",
              "10    2.984469   0.820231  2.966531  0.833695\n",
              "11    2.976235   0.827627  2.961502  0.841219\n",
              "12    2.966408   0.837796  2.947588  0.856651\n",
              "13    2.948419   0.856797  2.930276  0.871062\n",
              "14    2.938008   0.866552  2.923407  0.879735\n",
              "15    2.917518   0.889856  2.902303  0.900268\n",
              "16    2.903239   0.902958  2.896308  0.906134\n",
              "17    2.892945   0.913001  2.883456  0.919015\n",
              "18    2.885990   0.918707  2.879062  0.922586\n",
              "19    2.881283   0.923011  2.878108  0.923352\n",
              "20    2.879890   0.923935  2.877407  0.923479\n",
              "21    2.877642   0.926422  2.867269  0.934192\n",
              "22    2.865342   0.938919  2.858281  0.944777\n",
              "23    2.857025   0.948578  2.850430  0.952174\n",
              "24    2.851131   0.953233  2.849882  0.952174\n",
              "25    2.849656   0.953392  2.849979  0.951664\n",
              "26    2.849250   0.953743  2.849358  0.952302\n",
              "27    2.848654   0.954061  2.848642  0.952430\n",
              "28    2.848657   0.953806  2.849053  0.952047\n",
              "29    2.848088   0.954285  2.848565  0.952940\n",
              "30    2.846201   0.956197  2.845160  0.956256\n",
              "31    2.842868   0.959800  2.844104  0.957276\n",
              "32    2.842219   0.960119  2.843815  0.959061\n",
              "33    2.839094   0.963817  2.839384  0.962122\n",
              "34    2.836506   0.966431  2.838614  0.963015\n",
              "35    2.835337   0.967005  2.838376  0.962887\n",
              "36    2.834788   0.967292  2.837876  0.963270\n",
              "37    2.835040   0.966909  2.837374  0.964035\n",
              "38    2.834678   0.967100  2.837679  0.963398\n",
              "39    2.834459   0.967387  2.837317  0.963653\n",
              "40    2.834154   0.967610  2.837476  0.963908\n",
              "41    2.834305   0.967323  2.838492  0.962887\n",
              "42    2.834175   0.967387  2.837172  0.963780\n",
              "43    2.833969   0.967483  2.837619  0.963398\n",
              "44    2.833814   0.967642  2.837237  0.963780\n",
              "45    2.834094   0.967515  2.837235  0.963653\n",
              "46    2.834046   0.967483  2.837495  0.963270\n",
              "47    2.834115   0.967387  2.837162  0.963780\n",
              "48    2.833596   0.967642  2.837415  0.963525\n",
              "49    2.833553   0.967738  2.836938  0.963653"
            ]
          },
          "metadata": {
            "tags": []
          },
          "execution_count": 46
        }
      ]
    },
    {
      "cell_type": "code",
      "metadata": {
        "id": "4o2Iq5Ti26TP",
        "colab_type": "code",
        "colab": {
          "base_uri": "https://localhost:8080/",
          "height": 516
        },
        "outputId": "c6d85bc3-46dd-4065-d446-7e0e818cccec"
      },
      "source": [
        "stats_model4[['train_loss', 'val_loss']].plot()\n",
        "plt.show()\n",
        "stats_model4[['train_acc', 'val_acc']].plot()\n",
        "plt.show()"
      ],
      "execution_count": 49,
      "outputs": [
        {
          "output_type": "display_data",
          "data": {
            "image/png": "[encoded data removed]",
            "text/plain": [
              "<Figure size 432x288 with 1 Axes>"
            ]
          },
          "metadata": {
            "tags": [],
            "needs_background": "light"
          }
        },
        {
          "output_type": "display_data",
          "data": {
            "image/png": "[encoded data removed]",
            "text/plain": [
              "<Figure size 432x288 with 1 Axes>"
            ]
          },
          "metadata": {
            "tags": [],
            "needs_background": "light"
          }
        }
      ]
    },
    {
      "cell_type": "markdown",
      "metadata": {
        "id": "j0YcqjrB6hzb",
        "colab_type": "text"
      },
      "source": [
        "With increased number of features and a removed poolig layer we reached 96% of accuracy"
      ]
    },
    {
      "cell_type": "markdown",
      "metadata": {
        "id": "FlpPu_sA7hD2",
        "colab_type": "text"
      },
      "source": [
        "Fifth model\n",
        "\n",
        "We try increasing dimensions of convolution layers a bit more to check if it cann improve the accuracy.\n",
        "There are 4 conv. layers in total, two dropout layers and two max poolings"
      ]
    },
    {
      "cell_type": "code",
      "metadata": {
        "id": "Ng8TXjMG65Gp",
        "colab_type": "code",
        "colab": {}
      },
      "source": [
        "class ConvModel5(torch.nn.Module):\n",
        "    def __init__(self):\n",
        "        super(ConvModel5, self).__init__()\n",
        "        self.conv1 = nn.Conv2d(3, 24, 3)\n",
        "        self.pool = nn.MaxPool2d(2, 2)\n",
        "        self.conv2 = nn.Conv2d(24, 36, 3)\n",
        "        self.conv3 = nn.Conv2d(36, 48, 3)\n",
        "        self.conv4 = nn.Conv2d(48, 60, 3)\n",
        "        self.fc1 = nn.Linear(60 * 7 * 7, 120)\n",
        "        self.bn1 = nn.BatchNorm1d(120)\n",
        "        self.fc2 = nn.Linear(120, OUTPUT_DIM)\n",
        "        self.relu = nn.ReLU()\n",
        "        self.softmax = nn.Softmax(1)\n",
        "        self.dropout = nn.Dropout(0.25)\n",
        "\n",
        "    def forward(self, x):\n",
        "        x = self.conv1(x)\n",
        "        x = self.relu(x)\n",
        "        x = self.dropout(x)\n",
        "\n",
        "        x = self.conv2(x)\n",
        "        x = self.relu(x)\n",
        "        x = self.pool(x) \n",
        "\n",
        "        x = self.conv3(x)\n",
        "        x = self.relu(x)\n",
        "        x = self.dropout(x) \n",
        "\n",
        "        x = self.conv4(x)\n",
        "        x = self.pool(x) \n",
        "        x = self.relu(x)\n",
        "\n",
        "\n",
        "        x = x.view(-1, 60 * 7 * 7)\n",
        "\n",
        "        x = self.fc1(x)\n",
        "        x = self.bn1(x)\n",
        "        x = self.relu(x)\n",
        "\n",
        "        x = self.fc2(x)        \n",
        "        x = self.softmax(x)\n",
        "\n",
        "        return x\n",
        "\n"
      ],
      "execution_count": 0,
      "outputs": []
    },
    {
      "cell_type": "code",
      "metadata": {
        "id": "dKcix17270WX",
        "colab_type": "code",
        "colab": {}
      },
      "source": [
        "model5 = ConvModel5()\n",
        "model5.to(device)\n",
        "optimizer = torch.optim.SGD(model5.parameters(), lr=learning_rate, momentum=0.9)"
      ],
      "execution_count": 0,
      "outputs": []
    },
    {
      "cell_type": "code",
      "metadata": {
        "id": "C-BH4Hce7-B2",
        "colab_type": "code",
        "colab": {
          "base_uri": "https://localhost:8080/",
          "height": 34
        },
        "outputId": "6f7cb8a0-28f6-48d1-f693-7ff6805404f3"
      },
      "source": [
        "count_parameters(model5)"
      ],
      "execution_count": 70,
      "outputs": [
        {
          "output_type": "execute_result",
          "data": {
            "text/plain": [
              "408427"
            ]
          },
          "metadata": {
            "tags": []
          },
          "execution_count": 70
        }
      ]
    },
    {
      "cell_type": "code",
      "metadata": {
        "id": "0uX_J-aS8Eft",
        "colab_type": "code",
        "colab": {
          "base_uri": "https://localhost:8080/",
          "height": 68
        },
        "outputId": "730125bf-f28c-419c-ec5b-9931f5a4af25"
      },
      "source": [
        "stats_model5 = trainModel(model5, train_loader, validation_loader, criterion, optimizer, epochs)"
      ],
      "execution_count": 71,
      "outputs": [
        {
          "output_type": "stream",
          "text": [
            "50 epochs complete in 14m 49s\n",
            "Best training loss: 3.53, accuracy: 1.00\n",
            "Best validation loss: 3.29, accuracy: 1.00\n"
          ],
          "name": "stdout"
        }
      ]
    },
    {
      "cell_type": "code",
      "metadata": {
        "id": "48RVyI2V89HV",
        "colab_type": "code",
        "colab": {
          "base_uri": "https://localhost:8080/",
          "height": 513
        },
        "outputId": "a90e12fc-047e-4895-bb98-4b0114f6adb5"
      },
      "source": [
        "stats_model5[['train_loss', 'val_loss']].plot()\n",
        "plt.show()\n",
        "stats_model5[['train_acc', 'val_acc']].plot()\n",
        "plt.show()"
      ],
      "execution_count": 72,
      "outputs": [
        {
          "output_type": "display_data",
          "data": {
            "image/png": "[encoded data removed]",
            "text/plain": [
              "<Figure size 432x288 with 1 Axes>"
            ]
          },
          "metadata": {
            "tags": [],
            "needs_background": "light"
          }
        },
        {
          "output_type": "display_data",
          "data": {
            "image/png": "[encoded data removed]",
            "text/plain": [
              "<Figure size 432x288 with 1 Axes>"
            ]
          },
          "metadata": {
            "tags": [],
            "needs_background": "light"
          }
        }
      ]
    },
    {
      "cell_type": "markdown",
      "metadata": {
        "id": "88imduqjEvjJ",
        "colab_type": "text"
      },
      "source": [
        "The final model has accuracy close to 100%.\n",
        "\n",
        "Time to test the models on the new dataset"
      ]
    },
    {
      "cell_type": "code",
      "metadata": {
        "id": "NEGuviAu2QV1",
        "colab_type": "code",
        "colab": {}
      },
      "source": [
        "models_comparison = testModels([model1, model2, model3, model4, model5], criterion)"
      ],
      "execution_count": 0,
      "outputs": []
    },
    {
      "cell_type": "code",
      "metadata": {
        "id": "wNEoHs8JRhFk",
        "colab_type": "code",
        "colab": {
          "base_uri": "https://localhost:8080/",
          "height": 1000
        },
        "outputId": "9fc6a442-4b85-47a0-d4b4-3d38e8fd2b07"
      },
      "source": [
        "models_comparison"
      ],
      "execution_count": 74,
      "outputs": [
        {
          "output_type": "execute_result",
          "data": {
            "text/html": [
              "<div>\n",
              "<style scoped>\n",
              "    .dataframe tbody tr th:only-of-type {\n",
              "        vertical-align: middle;\n",
              "    }\n",
              "\n",
              "    .dataframe tbody tr th {\n",
              "        vertical-align: top;\n",
              "    }\n",
              "\n",
              "    .dataframe thead th {\n",
              "        text-align: right;\n",
              "    }\n",
              "</style>\n",
              "<table border=\"1\" class=\"dataframe\">\n",
              "  <thead>\n",
              "    <tr style=\"text-align: right;\">\n",
              "      <th></th>\n",
              "      <th>0</th>\n",
              "      <th>1</th>\n",
              "      <th>2</th>\n",
              "      <th>3</th>\n",
              "      <th>4</th>\n",
              "    </tr>\n",
              "  </thead>\n",
              "  <tbody>\n",
              "    <tr>\n",
              "      <th>model</th>\n",
              "      <td>ConvModel1(\\n  (conv1): Conv2d(3, 12, kernel_s...</td>\n",
              "      <td>ConvModel2(\\n  (conv1): Conv2d(3, 12, kernel_s...</td>\n",
              "      <td>ConvModel3(\\n  (conv1): Conv2d(3, 12, kernel_s...</td>\n",
              "      <td>ConvModel4(\\n  (conv1): Conv2d(3, 24, kernel_s...</td>\n",
              "      <td>ConvModel5(\\n  (conv1): Conv2d(3, 24, kernel_s...</td>\n",
              "    </tr>\n",
              "    <tr>\n",
              "      <th>loss</th>\n",
              "      <td>3.36777</td>\n",
              "      <td>3.02219</td>\n",
              "      <td>3.0426</td>\n",
              "      <td>2.8586</td>\n",
              "      <td>2.82732</td>\n",
              "    </tr>\n",
              "    <tr>\n",
              "      <th>acc</th>\n",
              "      <td>0.434046</td>\n",
              "      <td>0.781631</td>\n",
              "      <td>0.759303</td>\n",
              "      <td>0.947585</td>\n",
              "      <td>0.979652</td>\n",
              "    </tr>\n",
              "    <tr>\n",
              "      <th>0</th>\n",
              "      <td>0</td>\n",
              "      <td>0</td>\n",
              "      <td>0</td>\n",
              "      <td>0</td>\n",
              "      <td>1</td>\n",
              "    </tr>\n",
              "    <tr>\n",
              "      <th>1</th>\n",
              "      <td>0</td>\n",
              "      <td>0.997222</td>\n",
              "      <td>0.994444</td>\n",
              "      <td>0.993056</td>\n",
              "      <td>0.994444</td>\n",
              "    </tr>\n",
              "    <tr>\n",
              "      <th>2</th>\n",
              "      <td>0.722667</td>\n",
              "      <td>0.994667</td>\n",
              "      <td>0</td>\n",
              "      <td>0.993333</td>\n",
              "      <td>0.996</td>\n",
              "    </tr>\n",
              "    <tr>\n",
              "      <th>3</th>\n",
              "      <td>0</td>\n",
              "      <td>0.935556</td>\n",
              "      <td>0</td>\n",
              "      <td>0.962222</td>\n",
              "      <td>0.977778</td>\n",
              "    </tr>\n",
              "    <tr>\n",
              "      <th>4</th>\n",
              "      <td>0.869697</td>\n",
              "      <td>0.981818</td>\n",
              "      <td>0.963636</td>\n",
              "      <td>0.989394</td>\n",
              "      <td>0.984848</td>\n",
              "    </tr>\n",
              "    <tr>\n",
              "      <th>5</th>\n",
              "      <td>0.925397</td>\n",
              "      <td>0.974603</td>\n",
              "      <td>0.979365</td>\n",
              "      <td>0.992063</td>\n",
              "      <td>0.995238</td>\n",
              "    </tr>\n",
              "    <tr>\n",
              "      <th>6</th>\n",
              "      <td>0</td>\n",
              "      <td>0.926667</td>\n",
              "      <td>0.986667</td>\n",
              "      <td>0.86</td>\n",
              "      <td>0.906667</td>\n",
              "    </tr>\n",
              "    <tr>\n",
              "      <th>7</th>\n",
              "      <td>0</td>\n",
              "      <td>0</td>\n",
              "      <td>0</td>\n",
              "      <td>0.991111</td>\n",
              "      <td>0.986667</td>\n",
              "    </tr>\n",
              "    <tr>\n",
              "      <th>8</th>\n",
              "      <td>0</td>\n",
              "      <td>0.984444</td>\n",
              "      <td>0.955556</td>\n",
              "      <td>0.995556</td>\n",
              "      <td>0.982222</td>\n",
              "    </tr>\n",
              "    <tr>\n",
              "      <th>9</th>\n",
              "      <td>0</td>\n",
              "      <td>1</td>\n",
              "      <td>1</td>\n",
              "      <td>0.995833</td>\n",
              "      <td>0.997917</td>\n",
              "    </tr>\n",
              "    <tr>\n",
              "      <th>10</th>\n",
              "      <td>0.943939</td>\n",
              "      <td>0.989394</td>\n",
              "      <td>0.990909</td>\n",
              "      <td>0.99697</td>\n",
              "      <td>0.995455</td>\n",
              "    </tr>\n",
              "    <tr>\n",
              "      <th>11</th>\n",
              "      <td>0.969048</td>\n",
              "      <td>0.988095</td>\n",
              "      <td>0.990476</td>\n",
              "      <td>0.992857</td>\n",
              "      <td>0.992857</td>\n",
              "    </tr>\n",
              "    <tr>\n",
              "      <th>12</th>\n",
              "      <td>0.926087</td>\n",
              "      <td>0.989855</td>\n",
              "      <td>0.972464</td>\n",
              "      <td>0.973913</td>\n",
              "      <td>0.981159</td>\n",
              "    </tr>\n",
              "    <tr>\n",
              "      <th>13</th>\n",
              "      <td>0.991667</td>\n",
              "      <td>0.991667</td>\n",
              "      <td>0.997222</td>\n",
              "      <td>0.995833</td>\n",
              "      <td>0.995833</td>\n",
              "    </tr>\n",
              "    <tr>\n",
              "      <th>14</th>\n",
              "      <td>0</td>\n",
              "      <td>0.955556</td>\n",
              "      <td>0.933333</td>\n",
              "      <td>0.948148</td>\n",
              "      <td>0.996296</td>\n",
              "    </tr>\n",
              "    <tr>\n",
              "      <th>15</th>\n",
              "      <td>0</td>\n",
              "      <td>0</td>\n",
              "      <td>1</td>\n",
              "      <td>0.995238</td>\n",
              "      <td>1</td>\n",
              "    </tr>\n",
              "    <tr>\n",
              "      <th>16</th>\n",
              "      <td>0</td>\n",
              "      <td>0</td>\n",
              "      <td>1</td>\n",
              "      <td>0.993333</td>\n",
              "      <td>0.993333</td>\n",
              "    </tr>\n",
              "    <tr>\n",
              "      <th>17</th>\n",
              "      <td>0</td>\n",
              "      <td>0.969444</td>\n",
              "      <td>0.95</td>\n",
              "      <td>0.9</td>\n",
              "      <td>0.930556</td>\n",
              "    </tr>\n",
              "    <tr>\n",
              "      <th>18</th>\n",
              "      <td>0.761538</td>\n",
              "      <td>0.974359</td>\n",
              "      <td>0.889744</td>\n",
              "      <td>0.969231</td>\n",
              "      <td>0.979487</td>\n",
              "    </tr>\n",
              "    <tr>\n",
              "      <th>19</th>\n",
              "      <td>0</td>\n",
              "      <td>0</td>\n",
              "      <td>0.933333</td>\n",
              "      <td>1</td>\n",
              "      <td>1</td>\n",
              "    </tr>\n",
              "    <tr>\n",
              "      <th>20</th>\n",
              "      <td>0</td>\n",
              "      <td>0</td>\n",
              "      <td>0</td>\n",
              "      <td>0.988889</td>\n",
              "      <td>1</td>\n",
              "    </tr>\n",
              "    <tr>\n",
              "      <th>21</th>\n",
              "      <td>0</td>\n",
              "      <td>0</td>\n",
              "      <td>0</td>\n",
              "      <td>0</td>\n",
              "      <td>0.933333</td>\n",
              "    </tr>\n",
              "    <tr>\n",
              "      <th>22</th>\n",
              "      <td>0</td>\n",
              "      <td>0</td>\n",
              "      <td>0.858333</td>\n",
              "      <td>0.966667</td>\n",
              "      <td>0.908333</td>\n",
              "    </tr>\n",
              "    <tr>\n",
              "      <th>23</th>\n",
              "      <td>0</td>\n",
              "      <td>0</td>\n",
              "      <td>0.993333</td>\n",
              "      <td>0.966667</td>\n",
              "      <td>0.98</td>\n",
              "    </tr>\n",
              "    <tr>\n",
              "      <th>24</th>\n",
              "      <td>0</td>\n",
              "      <td>0</td>\n",
              "      <td>0.955556</td>\n",
              "      <td>0.988889</td>\n",
              "      <td>0.988889</td>\n",
              "    </tr>\n",
              "    <tr>\n",
              "      <th>25</th>\n",
              "      <td>0.920833</td>\n",
              "      <td>0.952083</td>\n",
              "      <td>0.979167</td>\n",
              "      <td>0.935417</td>\n",
              "      <td>0.952083</td>\n",
              "    </tr>\n",
              "    <tr>\n",
              "      <th>26</th>\n",
              "      <td>0</td>\n",
              "      <td>0</td>\n",
              "      <td>0.994444</td>\n",
              "      <td>0.927778</td>\n",
              "      <td>0.9</td>\n",
              "    </tr>\n",
              "    <tr>\n",
              "      <th>27</th>\n",
              "      <td>0</td>\n",
              "      <td>0</td>\n",
              "      <td>0</td>\n",
              "      <td>0</td>\n",
              "      <td>0.816667</td>\n",
              "    </tr>\n",
              "    <tr>\n",
              "      <th>28</th>\n",
              "      <td>0</td>\n",
              "      <td>0.993333</td>\n",
              "      <td>0.986667</td>\n",
              "      <td>0.993333</td>\n",
              "      <td>1</td>\n",
              "    </tr>\n",
              "    <tr>\n",
              "      <th>29</th>\n",
              "      <td>0</td>\n",
              "      <td>0</td>\n",
              "      <td>0</td>\n",
              "      <td>0.977778</td>\n",
              "      <td>1</td>\n",
              "    </tr>\n",
              "    <tr>\n",
              "      <th>30</th>\n",
              "      <td>0</td>\n",
              "      <td>0</td>\n",
              "      <td>0</td>\n",
              "      <td>0.846667</td>\n",
              "      <td>0.913333</td>\n",
              "    </tr>\n",
              "    <tr>\n",
              "      <th>31</th>\n",
              "      <td>0</td>\n",
              "      <td>0.996296</td>\n",
              "      <td>1</td>\n",
              "      <td>0.992593</td>\n",
              "      <td>1</td>\n",
              "    </tr>\n",
              "    <tr>\n",
              "      <th>32</th>\n",
              "      <td>0</td>\n",
              "      <td>0</td>\n",
              "      <td>1</td>\n",
              "      <td>0</td>\n",
              "      <td>1</td>\n",
              "    </tr>\n",
              "    <tr>\n",
              "      <th>33</th>\n",
              "      <td>0</td>\n",
              "      <td>1</td>\n",
              "      <td>1</td>\n",
              "      <td>0.995238</td>\n",
              "      <td>1</td>\n",
              "    </tr>\n",
              "    <tr>\n",
              "      <th>34</th>\n",
              "      <td>0</td>\n",
              "      <td>0</td>\n",
              "      <td>0</td>\n",
              "      <td>0.991667</td>\n",
              "      <td>0.991667</td>\n",
              "    </tr>\n",
              "    <tr>\n",
              "      <th>35</th>\n",
              "      <td>0</td>\n",
              "      <td>1</td>\n",
              "      <td>0.987179</td>\n",
              "      <td>0.997436</td>\n",
              "      <td>0.992308</td>\n",
              "    </tr>\n",
              "    <tr>\n",
              "      <th>36</th>\n",
              "      <td>0</td>\n",
              "      <td>0</td>\n",
              "      <td>0</td>\n",
              "      <td>0.983333</td>\n",
              "      <td>0.983333</td>\n",
              "    </tr>\n",
              "    <tr>\n",
              "      <th>37</th>\n",
              "      <td>0</td>\n",
              "      <td>0</td>\n",
              "      <td>0</td>\n",
              "      <td>1</td>\n",
              "      <td>1</td>\n",
              "    </tr>\n",
              "    <tr>\n",
              "      <th>38</th>\n",
              "      <td>0.957971</td>\n",
              "      <td>0.991304</td>\n",
              "      <td>0.933333</td>\n",
              "      <td>0.962319</td>\n",
              "      <td>0.965217</td>\n",
              "    </tr>\n",
              "    <tr>\n",
              "      <th>39</th>\n",
              "      <td>0</td>\n",
              "      <td>0</td>\n",
              "      <td>0</td>\n",
              "      <td>1</td>\n",
              "      <td>0.988889</td>\n",
              "    </tr>\n",
              "    <tr>\n",
              "      <th>40</th>\n",
              "      <td>0</td>\n",
              "      <td>0</td>\n",
              "      <td>0</td>\n",
              "      <td>0.888889</td>\n",
              "      <td>0.888889</td>\n",
              "    </tr>\n",
              "    <tr>\n",
              "      <th>41</th>\n",
              "      <td>0</td>\n",
              "      <td>0.866667</td>\n",
              "      <td>0.716667</td>\n",
              "      <td>0.666667</td>\n",
              "      <td>0.9</td>\n",
              "    </tr>\n",
              "    <tr>\n",
              "      <th>42</th>\n",
              "      <td>0</td>\n",
              "      <td>0</td>\n",
              "      <td>0</td>\n",
              "      <td>0</td>\n",
              "      <td>0.911111</td>\n",
              "    </tr>\n",
              "  </tbody>\n",
              "</table>\n",
              "</div>"
            ],
            "text/plain": [
              "                                                       0  ...                                                  4\n",
              "model  ConvModel1(\\n  (conv1): Conv2d(3, 12, kernel_s...  ...  ConvModel5(\\n  (conv1): Conv2d(3, 24, kernel_s...\n",
              "loss                                             3.36777  ...                                            2.82732\n",
              "acc                                             0.434046  ...                                           0.979652\n",
              "0                                                      0  ...                                                  1\n",
              "1                                                      0  ...                                           0.994444\n",
              "2                                               0.722667  ...                                              0.996\n",
              "3                                                      0  ...                                           0.977778\n",
              "4                                               0.869697  ...                                           0.984848\n",
              "5                                               0.925397  ...                                           0.995238\n",
              "6                                                      0  ...                                           0.906667\n",
              "7                                                      0  ...                                           0.986667\n",
              "8                                                      0  ...                                           0.982222\n",
              "9                                                      0  ...                                           0.997917\n",
              "10                                              0.943939  ...                                           0.995455\n",
              "11                                              0.969048  ...                                           0.992857\n",
              "12                                              0.926087  ...                                           0.981159\n",
              "13                                              0.991667  ...                                           0.995833\n",
              "14                                                     0  ...                                           0.996296\n",
              "15                                                     0  ...                                                  1\n",
              "16                                                     0  ...                                           0.993333\n",
              "17                                                     0  ...                                           0.930556\n",
              "18                                              0.761538  ...                                           0.979487\n",
              "19                                                     0  ...                                                  1\n",
              "20                                                     0  ...                                                  1\n",
              "21                                                     0  ...                                           0.933333\n",
              "22                                                     0  ...                                           0.908333\n",
              "23                                                     0  ...                                               0.98\n",
              "24                                                     0  ...                                           0.988889\n",
              "25                                              0.920833  ...                                           0.952083\n",
              "26                                                     0  ...                                                0.9\n",
              "27                                                     0  ...                                           0.816667\n",
              "28                                                     0  ...                                                  1\n",
              "29                                                     0  ...                                                  1\n",
              "30                                                     0  ...                                           0.913333\n",
              "31                                                     0  ...                                                  1\n",
              "32                                                     0  ...                                                  1\n",
              "33                                                     0  ...                                                  1\n",
              "34                                                     0  ...                                           0.991667\n",
              "35                                                     0  ...                                           0.992308\n",
              "36                                                     0  ...                                           0.983333\n",
              "37                                                     0  ...                                                  1\n",
              "38                                              0.957971  ...                                           0.965217\n",
              "39                                                     0  ...                                           0.988889\n",
              "40                                                     0  ...                                           0.888889\n",
              "41                                                     0  ...                                                0.9\n",
              "42                                                     0  ...                                           0.911111\n",
              "\n",
              "[46 rows x 5 columns]"
            ]
          },
          "metadata": {
            "tags": []
          },
          "execution_count": 74
        }
      ]
    },
    {
      "cell_type": "markdown",
      "metadata": {
        "id": "ezddQh-hFLSP",
        "colab_type": "text"
      },
      "source": [
        "Only the last model is able to predict all classes allmost correctly.\n",
        "\n",
        "Though model 4 has quite good general accuracy,, it is not able to predict 5 classes comletely.\n",
        "\n",
        "So increasing number of features for the convolutional network was a good idea"
      ]
    },
    {
      "cell_type": "markdown",
      "metadata": {
        "id": "EEjlCDbyFALv",
        "colab_type": "text"
      },
      "source": [
        "Visualising some predictions of the final model"
      ]
    },
    {
      "cell_type": "code",
      "metadata": {
        "id": "S8NUjvuPFmU0",
        "colab_type": "code",
        "colab": {
          "base_uri": "https://localhost:8080/",
          "height": 1000
        },
        "outputId": "b910b182-7c94-41dd-f9b4-de3e48a06fef"
      },
      "source": [
        "random_loader = torch.utils.data.DataLoader(test_data, batch_size=8,  shuffle=True)\n",
        "im, lab  = next(iter(random_loader))\n",
        "model5.to('cpu')\n",
        "model5.eval()\n",
        "with torch.set_grad_enabled(False):\n",
        "  outputs = model5(im)\n",
        "  _, preds = torch.max(outputs, 1)\n",
        "plotImage(im, preds, test_data.classes)\n"
      ],
      "execution_count": 110,
      "outputs": [
        {
          "output_type": "display_data",
          "data": {
            "image/png": "[encoded data removed]",
            "text/plain": [
              "<Figure size 432x288 with 2 Axes>"
            ]
          },
          "metadata": {
            "tags": [],
            "needs_background": "light"
          }
        },
        {
          "output_type": "display_data",
          "data": {
            "image/png": "[encoded data removed]",
            "text/plain": [
              "<Figure size 432x288 with 2 Axes>"
            ]
          },
          "metadata": {
            "tags": [],
            "needs_background": "light"
          }
        },
        {
          "output_type": "display_data",
          "data": {
            "image/png": "[encoded data removed]",
            "text/plain": [
              "<Figure size 432x288 with 2 Axes>"
            ]
          },
          "metadata": {
            "tags": [],
            "needs_background": "light"
          }
        },
        {
          "output_type": "display_data",
          "data": {
            "image/png": "[encoded data removed]",
            "text/plain": [
              "<Figure size 432x288 with 2 Axes>"
            ]
          },
          "metadata": {
            "tags": [],
            "needs_background": "light"
          }
        },
        {
          "output_type": "display_data",
          "data": {
            "image/png": "[encoded data removed]",
            "text/plain": [
              "<Figure size 432x288 with 2 Axes>"
            ]
          },
          "metadata": {
            "tags": [],
            "needs_background": "light"
          }
        },
        {
          "output_type": "display_data",
          "data": {
            "image/png": "[encoded data removed]",
            "text/plain": [
              "<Figure size 432x288 with 2 Axes>"
            ]
          },
          "metadata": {
            "tags": [],
            "needs_background": "light"
          }
        },
        {
          "output_type": "display_data",
          "data": {
            "image/png": "[encoded data removed]",
            "text/plain": [
              "<Figure size 432x288 with 2 Axes>"
            ]
          },
          "metadata": {
            "tags": [],
            "needs_background": "light"
          }
        },
        {
          "output_type": "display_data",
          "data": {
            "image/png": "[encoded data removed]",
            "text/plain": [
              "<Figure size 432x288 with 2 Axes>"
            ]
          },
          "metadata": {
            "tags": [],
            "needs_background": "light"
          }
        }
      ]
    }
  ]
}